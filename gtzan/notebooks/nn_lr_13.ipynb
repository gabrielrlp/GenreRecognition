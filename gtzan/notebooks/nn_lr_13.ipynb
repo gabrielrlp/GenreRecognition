{
 "cells": [
  {
   "cell_type": "code",
   "execution_count": 1,
   "metadata": {},
   "outputs": [
    {
     "name": "stderr",
     "output_type": "stream",
     "text": [
      "Using TensorFlow backend.\n"
     ]
    }
   ],
   "source": [
    "from __future__ import print_function\n",
    "\n",
    "import os\n",
    "import numpy as np\n",
    "import pandas as pd\n",
    "import seaborn as sns\n",
    "\n",
    "from tqdm import *\n",
    "import matplotlib.pyplot as plt\n",
    "\n",
    "from sklearn.metrics import confusion_matrix\n",
    "from sklearn.metrics import classification_report\n",
    "from sklearn.linear_model import LogisticRegression\n",
    "from sklearn.model_selection import train_test_split\n",
    "\n",
    "from keras.models import Model\n",
    "from keras.utils import np_utils\n",
    "from keras.layers import Convolution2D, MaxPooling2D\n",
    "from keras.layers import Dense, Dropout, Activation, Flatten, Input\n",
    "\n",
    "%matplotlib inline"
   ]
  },
  {
   "cell_type": "code",
   "execution_count": 2,
   "metadata": {},
   "outputs": [],
   "source": [
    "dataset_path = '../mfccs/13/'\n",
    "cls_list = ['blues',\n",
    "            'classical',\n",
    "            'country',\n",
    "            'disco',\n",
    "            'hiphop',\n",
    "            'jazz',\n",
    "            'metal',\n",
    "            'pop',\n",
    "            'reggae',\n",
    "            'rock']"
   ]
  },
  {
   "cell_type": "markdown",
   "metadata": {},
   "source": [
    "### Data loading and preparation"
   ]
  },
  {
   "cell_type": "code",
   "execution_count": 3,
   "metadata": {},
   "outputs": [
    {
     "name": "stderr",
     "output_type": "stream",
     "text": [
      "100%|██████████| 10/10 [00:07<00:00,  1.41it/s]\n"
     ]
    }
   ],
   "source": [
    "X = []\n",
    "y = []\n",
    "\n",
    "for cls in tqdm(os.listdir(dataset_path)):\n",
    "    cls_path = os.path.join(dataset_path, cls)\n",
    "    \n",
    "    for f in os.listdir(cls_path):\n",
    "        X.append(pd.read_csv(os.path.join(cls_path, f), delimiter=';', header=None).iloc[:, :-1])\n",
    "        y.append(cls_list.index(cls))"
   ]
  },
  {
   "cell_type": "code",
   "execution_count": 4,
   "metadata": {},
   "outputs": [
    {
     "data": {
      "text/plain": [
       "<matplotlib.axes._subplots.AxesSubplot at 0x7fd564ef9208>"
      ]
     },
     "execution_count": 4,
     "metadata": {},
     "output_type": "execute_result"
    },
    {
     "data": {
      "image/png": "[encoded data removed]",
      "text/plain": [
       "<Figure size 432x288 with 1 Axes>"
      ]
     },
     "metadata": {
      "needs_background": "light"
     },
     "output_type": "display_data"
    }
   ],
   "source": [
    "y_np = np.asarray(y)\n",
    "v, c = np.unique(y_np, return_counts=True)\n",
    "sns.barplot(v, c)"
   ]
  },
  {
   "cell_type": "markdown",
   "metadata": {},
   "source": [
    "#### MFCC simplification\n",
    "Each audio has 13 MFCCs per frame. We are simplifying it by computing the mean of the frames and using the resulting single vector of 13 MFCCs as the audio representation."
   ]
  },
  {
   "cell_type": "code",
   "execution_count": 5,
   "metadata": {},
   "outputs": [
    {
     "name": "stderr",
     "output_type": "stream",
     "text": [
      "1000it [00:00, 2244.10it/s]\n"
     ]
    }
   ],
   "source": [
    "X_std = []\n",
    "\n",
    "for idx, i in tqdm(enumerate(X)):\n",
    "    X_std.append(np.mean(i, axis=0))"
   ]
  },
  {
   "cell_type": "code",
   "execution_count": 6,
   "metadata": {},
   "outputs": [
    {
     "name": "stdout",
     "output_type": "stream",
     "text": [
      "(1000, 13) float64\n"
     ]
    }
   ],
   "source": [
    "X_std = np.asarray(X_std)\n",
    "print(X_std.shape, X_std.dtype)"
   ]
  },
  {
   "cell_type": "markdown",
   "metadata": {},
   "source": [
    "#### Train/Val split"
   ]
  },
  {
   "cell_type": "code",
   "execution_count": 7,
   "metadata": {},
   "outputs": [
    {
     "name": "stdout",
     "output_type": "stream",
     "text": [
      "(670, 13) (330, 13) (670,) (330,)\n"
     ]
    }
   ],
   "source": [
    "X_train, X_val, y_train, y_val = train_test_split(X_std, y_np, test_size=0.33, random_state=33, stratify=y_np)\n",
    "print(X_train.shape, X_val.shape, y_train.shape, y_val.shape)"
   ]
  },
  {
   "cell_type": "code",
   "execution_count": 8,
   "metadata": {},
   "outputs": [
    {
     "name": "stdout",
     "output_type": "stream",
     "text": [
      "(670, 10) (330, 10)\n"
     ]
    }
   ],
   "source": [
    "y_train = np_utils.to_categorical(y_train)\n",
    "y_val = np_utils.to_categorical(y_val)\n",
    "print(y_train.shape, y_val.shape)"
   ]
  },
  {
   "cell_type": "code",
   "execution_count": 9,
   "metadata": {},
   "outputs": [],
   "source": [
    "def create_model():\n",
    "    inp = Input(shape=(X_train.shape[1],))\n",
    "    x = Dense(64)(inp)\n",
    "    x = Activation('relu')(x)\n",
    "\n",
    "    x = Dense(10)(x)\n",
    "    x = Activation('softmax')(x)\n",
    "\n",
    "    model = Model(inputs=inp, outputs=x)\n",
    "    model.compile(loss='categorical_crossentropy', metrics=['accuracy'], optimizer='adam')\n",
    "    return model"
   ]
  },
  {
   "cell_type": "code",
   "execution_count": 10,
   "metadata": {},
   "outputs": [
    {
     "name": "stdout",
     "output_type": "stream",
     "text": [
      "_________________________________________________________________\n",
      "Layer (type)                 Output Shape              Param #   \n",
      "=================================================================\n",
      "input_1 (InputLayer)         (None, 13)                0         \n",
      "_________________________________________________________________\n",
      "dense_1 (Dense)              (None, 64)                896       \n",
      "_________________________________________________________________\n",
      "activation_1 (Activation)    (None, 64)                0         \n",
      "_________________________________________________________________\n",
      "dense_2 (Dense)              (None, 10)                650       \n",
      "_________________________________________________________________\n",
      "activation_2 (Activation)    (None, 10)                0         \n",
      "=================================================================\n",
      "Total params: 1,546.0\n",
      "Trainable params: 1,546.0\n",
      "Non-trainable params: 0.0\n",
      "_________________________________________________________________\n"
     ]
    }
   ],
   "source": [
    "model = create_model()\n",
    "model.summary()"
   ]
  },
  {
   "cell_type": "markdown",
   "metadata": {},
   "source": [
    "#### Normalization"
   ]
  },
  {
   "cell_type": "code",
   "execution_count": 11,
   "metadata": {},
   "outputs": [
    {
     "name": "stdout",
     "output_type": "stream",
     "text": [
      "Means: [-650.6297977   133.04630026   -6.57415915   34.46168699   -3.30174185\n",
      "   12.07065647   -7.9906482    10.0232402    -8.30882395    7.52375389\n",
      "   -6.85239181    4.18318983   -5.18664802]\n",
      "Stds: [101.02985116  36.1597846   24.5315318   20.24361409  12.1117232\n",
      "  13.29301     10.08719245  10.236978     7.8850999    7.24217957\n",
      "   6.96274209   5.67676019   5.68651412]\n"
     ]
    }
   ],
   "source": [
    "X_train_means = X_train.mean(axis=0)\n",
    "X_train_stds = X_train.std(axis=0)\n",
    "\n",
    "print('Means:', X_train_means)\n",
    "print('Stds:', X_train_stds)"
   ]
  },
  {
   "cell_type": "code",
   "execution_count": 12,
   "metadata": {},
   "outputs": [
    {
     "name": "stdout",
     "output_type": "stream",
     "text": [
      "Means: [-3.91063633e-15  3.09304821e-15 -1.77469979e-16  1.09680093e-15\n",
      " -1.65870634e-16 -7.98987742e-16  7.04908768e-16  9.56780260e-16\n",
      " -2.13179391e-16  1.39988560e-15  1.17683641e-15  8.07811529e-17\n",
      " -2.43669098e-16]\n",
      "Std: [1. 1. 1. 1. 1. 1. 1. 1. 1. 1. 1. 1. 1.]\n"
     ]
    }
   ],
   "source": [
    "X_train -= X_train_means\n",
    "X_train /= X_train_stds\n",
    "\n",
    "print('Means:', X_train.mean(axis=0))\n",
    "print('Std:', X_train.std(axis=0))"
   ]
  },
  {
   "cell_type": "code",
   "execution_count": 13,
   "metadata": {},
   "outputs": [],
   "source": [
    "X_val -= X_train_means\n",
    "X_val /= X_train_stds"
   ]
  },
  {
   "cell_type": "code",
   "execution_count": 14,
   "metadata": {},
   "outputs": [
    {
     "name": "stdout",
     "output_type": "stream",
     "text": [
      "Train on 670 samples, validate on 330 samples\n",
      "Epoch 1/100\n",
      "670/670 [==============================] - 1s - loss: 2.2455 - acc: 0.1537 - val_loss: 2.1161 - val_acc: 0.2333\n",
      "Epoch 2/100\n",
      "670/670 [==============================] - 0s - loss: 2.0196 - acc: 0.3075 - val_loss: 1.9425 - val_acc: 0.3424\n",
      "Epoch 3/100\n",
      "670/670 [==============================] - 0s - loss: 1.8712 - acc: 0.3776 - val_loss: 1.8230 - val_acc: 0.3818\n",
      "Epoch 4/100\n",
      "670/670 [==============================] - 0s - loss: 1.7650 - acc: 0.4045 - val_loss: 1.7384 - val_acc: 0.3970\n",
      "Epoch 5/100\n",
      "670/670 [==============================] - 0s - loss: 1.6843 - acc: 0.4164 - val_loss: 1.6760 - val_acc: 0.4000\n",
      "Epoch 6/100\n",
      "670/670 [==============================] - 0s - loss: 1.6193 - acc: 0.4478 - val_loss: 1.6247 - val_acc: 0.4121\n",
      "Epoch 7/100\n",
      "670/670 [==============================] - 0s - loss: 1.5637 - acc: 0.4552 - val_loss: 1.5804 - val_acc: 0.4212\n",
      "Epoch 8/100\n",
      "670/670 [==============================] - 0s - loss: 1.5145 - acc: 0.4657 - val_loss: 1.5427 - val_acc: 0.4455\n",
      "Epoch 9/100\n",
      "670/670 [==============================] - 0s - loss: 1.4728 - acc: 0.4806 - val_loss: 1.5118 - val_acc: 0.4576\n",
      "Epoch 10/100\n",
      "670/670 [==============================] - 0s - loss: 1.4339 - acc: 0.4925 - val_loss: 1.4851 - val_acc: 0.4636\n",
      "Epoch 11/100\n",
      "670/670 [==============================] - 0s - loss: 1.3991 - acc: 0.5030 - val_loss: 1.4625 - val_acc: 0.4727\n",
      "Epoch 12/100\n",
      "670/670 [==============================] - 0s - loss: 1.3666 - acc: 0.5119 - val_loss: 1.4384 - val_acc: 0.4848\n",
      "Epoch 13/100\n",
      "670/670 [==============================] - 0s - loss: 1.3374 - acc: 0.5343 - val_loss: 1.4197 - val_acc: 0.4879\n",
      "Epoch 14/100\n",
      "670/670 [==============================] - 0s - loss: 1.3096 - acc: 0.5493 - val_loss: 1.4029 - val_acc: 0.5000\n",
      "Epoch 15/100\n",
      "670/670 [==============================] - 0s - loss: 1.2851 - acc: 0.5612 - val_loss: 1.3913 - val_acc: 0.5091\n",
      "Epoch 16/100\n",
      "670/670 [==============================] - 0s - loss: 1.2616 - acc: 0.5642 - val_loss: 1.3770 - val_acc: 0.5182\n",
      "Epoch 17/100\n",
      "670/670 [==============================] - 0s - loss: 1.2413 - acc: 0.5776 - val_loss: 1.3642 - val_acc: 0.5212\n",
      "Epoch 18/100\n",
      "670/670 [==============================] - 0s - loss: 1.2188 - acc: 0.5836 - val_loss: 1.3570 - val_acc: 0.5212\n",
      "Epoch 19/100\n",
      "670/670 [==============================] - 0s - loss: 1.2018 - acc: 0.5940 - val_loss: 1.3479 - val_acc: 0.5303\n",
      "Epoch 20/100\n",
      "670/670 [==============================] - 0s - loss: 1.1837 - acc: 0.5970 - val_loss: 1.3384 - val_acc: 0.5333\n",
      "Epoch 21/100\n",
      "670/670 [==============================] - 0s - loss: 1.1687 - acc: 0.6000 - val_loss: 1.3325 - val_acc: 0.5455\n",
      "Epoch 22/100\n",
      "670/670 [==============================] - 0s - loss: 1.1519 - acc: 0.6045 - val_loss: 1.3251 - val_acc: 0.5394\n",
      "Epoch 23/100\n",
      "670/670 [==============================] - 0s - loss: 1.1369 - acc: 0.6090 - val_loss: 1.3191 - val_acc: 0.5545\n",
      "Epoch 24/100\n",
      "670/670 [==============================] - 0s - loss: 1.1255 - acc: 0.6179 - val_loss: 1.3126 - val_acc: 0.5424\n",
      "Epoch 25/100\n",
      "670/670 [==============================] - 0s - loss: 1.1099 - acc: 0.6149 - val_loss: 1.3097 - val_acc: 0.5455\n",
      "Epoch 26/100\n",
      "670/670 [==============================] - 0s - loss: 1.0955 - acc: 0.6179 - val_loss: 1.3070 - val_acc: 0.5485\n",
      "Epoch 27/100\n",
      "670/670 [==============================] - 0s - loss: 1.0845 - acc: 0.6164 - val_loss: 1.3011 - val_acc: 0.5576\n",
      "Epoch 28/100\n",
      "670/670 [==============================] - 0s - loss: 1.0733 - acc: 0.6284 - val_loss: 1.2962 - val_acc: 0.5667\n",
      "Epoch 29/100\n",
      "670/670 [==============================] - 0s - loss: 1.0597 - acc: 0.6343 - val_loss: 1.2963 - val_acc: 0.5576\n",
      "Epoch 30/100\n",
      "670/670 [==============================] - 0s - loss: 1.0481 - acc: 0.6313 - val_loss: 1.2930 - val_acc: 0.5636\n",
      "Epoch 31/100\n",
      "670/670 [==============================] - 0s - loss: 1.0382 - acc: 0.6373 - val_loss: 1.2913 - val_acc: 0.5636\n",
      "Epoch 32/100\n",
      "670/670 [==============================] - 0s - loss: 1.0266 - acc: 0.6463 - val_loss: 1.2892 - val_acc: 0.5788\n",
      "Epoch 33/100\n",
      "670/670 [==============================] - 0s - loss: 1.0161 - acc: 0.6493 - val_loss: 1.2869 - val_acc: 0.5758\n",
      "Epoch 34/100\n",
      "670/670 [==============================] - 0s - loss: 1.0080 - acc: 0.6478 - val_loss: 1.2861 - val_acc: 0.5727\n",
      "Epoch 35/100\n",
      "670/670 [==============================] - 0s - loss: 0.9969 - acc: 0.6597 - val_loss: 1.2875 - val_acc: 0.5758\n",
      "Epoch 36/100\n",
      "670/670 [==============================] - 0s - loss: 0.9890 - acc: 0.6612 - val_loss: 1.2837 - val_acc: 0.5758\n",
      "Epoch 37/100\n",
      "670/670 [==============================] - 0s - loss: 0.9817 - acc: 0.6612 - val_loss: 1.2808 - val_acc: 0.5758\n",
      "Epoch 38/100\n",
      "670/670 [==============================] - 0s - loss: 0.9705 - acc: 0.6627 - val_loss: 1.2846 - val_acc: 0.5758\n",
      "Epoch 39/100\n",
      "670/670 [==============================] - 0s - loss: 0.9641 - acc: 0.6657 - val_loss: 1.2804 - val_acc: 0.5727\n",
      "Epoch 40/100\n",
      "670/670 [==============================] - 0s - loss: 0.9543 - acc: 0.6701 - val_loss: 1.2799 - val_acc: 0.5848\n",
      "Epoch 41/100\n",
      "670/670 [==============================] - 0s - loss: 0.9490 - acc: 0.6731 - val_loss: 1.2801 - val_acc: 0.5697\n",
      "Epoch 42/100\n",
      "670/670 [==============================] - 0s - loss: 0.9415 - acc: 0.6672 - val_loss: 1.2790 - val_acc: 0.5758\n",
      "Epoch 43/100\n",
      "670/670 [==============================] - 0s - loss: 0.9331 - acc: 0.6776 - val_loss: 1.2806 - val_acc: 0.5818\n",
      "Epoch 44/100\n",
      "670/670 [==============================] - 0s - loss: 0.9259 - acc: 0.6776 - val_loss: 1.2824 - val_acc: 0.5727\n",
      "Epoch 45/100\n",
      "670/670 [==============================] - 0s - loss: 0.9206 - acc: 0.6836 - val_loss: 1.2781 - val_acc: 0.5788\n",
      "Epoch 46/100\n",
      "670/670 [==============================] - 0s - loss: 0.9123 - acc: 0.6806 - val_loss: 1.2816 - val_acc: 0.5909\n",
      "Epoch 47/100\n",
      "670/670 [==============================] - 0s - loss: 0.9077 - acc: 0.6896 - val_loss: 1.2788 - val_acc: 0.5727\n",
      "Epoch 48/100\n",
      "670/670 [==============================] - 0s - loss: 0.8995 - acc: 0.6910 - val_loss: 1.2797 - val_acc: 0.5818\n",
      "Epoch 49/100\n",
      "670/670 [==============================] - 0s - loss: 0.8949 - acc: 0.6866 - val_loss: 1.2822 - val_acc: 0.5848\n",
      "Epoch 50/100\n",
      "670/670 [==============================] - 0s - loss: 0.8868 - acc: 0.6940 - val_loss: 1.2821 - val_acc: 0.5818\n",
      "Epoch 51/100\n",
      "670/670 [==============================] - 0s - loss: 0.8811 - acc: 0.6970 - val_loss: 1.2796 - val_acc: 0.5848\n",
      "Epoch 52/100\n",
      "670/670 [==============================] - 0s - loss: 0.8751 - acc: 0.7015 - val_loss: 1.2835 - val_acc: 0.5879\n",
      "Epoch 53/100\n",
      "670/670 [==============================] - 0s - loss: 0.8711 - acc: 0.7060 - val_loss: 1.2807 - val_acc: 0.5788\n",
      "Epoch 54/100\n",
      "670/670 [==============================] - 0s - loss: 0.8643 - acc: 0.7060 - val_loss: 1.2869 - val_acc: 0.5818\n",
      "Epoch 55/100\n",
      "670/670 [==============================] - 0s - loss: 0.8570 - acc: 0.7104 - val_loss: 1.2851 - val_acc: 0.5879\n",
      "Epoch 56/100\n",
      "670/670 [==============================] - 0s - loss: 0.8522 - acc: 0.7119 - val_loss: 1.2850 - val_acc: 0.5848\n",
      "Epoch 57/100\n",
      "670/670 [==============================] - 0s - loss: 0.8455 - acc: 0.7194 - val_loss: 1.2896 - val_acc: 0.5818\n",
      "Epoch 58/100\n",
      "670/670 [==============================] - 0s - loss: 0.8412 - acc: 0.7194 - val_loss: 1.2890 - val_acc: 0.5848\n",
      "Epoch 59/100\n",
      "670/670 [==============================] - 0s - loss: 0.8357 - acc: 0.7194 - val_loss: 1.2913 - val_acc: 0.5727\n",
      "Epoch 60/100\n",
      "670/670 [==============================] - 0s - loss: 0.8293 - acc: 0.7239 - val_loss: 1.2888 - val_acc: 0.5818\n",
      "Epoch 61/100\n",
      "670/670 [==============================] - 0s - loss: 0.8248 - acc: 0.7164 - val_loss: 1.2912 - val_acc: 0.5879\n",
      "Epoch 62/100\n",
      "670/670 [==============================] - 0s - loss: 0.8200 - acc: 0.7239 - val_loss: 1.2923 - val_acc: 0.5879\n",
      "Epoch 63/100\n",
      "670/670 [==============================] - 0s - loss: 0.8146 - acc: 0.7328 - val_loss: 1.2939 - val_acc: 0.5909\n",
      "Epoch 64/100\n",
      "670/670 [==============================] - 0s - loss: 0.8110 - acc: 0.7284 - val_loss: 1.2956 - val_acc: 0.5848\n",
      "Epoch 65/100\n",
      "670/670 [==============================] - 0s - loss: 0.8034 - acc: 0.7299 - val_loss: 1.2972 - val_acc: 0.5909\n",
      "Epoch 66/100\n"
     ]
    },
    {
     "name": "stdout",
     "output_type": "stream",
     "text": [
      "670/670 [==============================] - 0s - loss: 0.7997 - acc: 0.7328 - val_loss: 1.2993 - val_acc: 0.5909\n",
      "Epoch 67/100\n",
      "670/670 [==============================] - 0s - loss: 0.7962 - acc: 0.7313 - val_loss: 1.2975 - val_acc: 0.5758\n",
      "Epoch 68/100\n",
      "670/670 [==============================] - 0s - loss: 0.7893 - acc: 0.7418 - val_loss: 1.3057 - val_acc: 0.5848\n",
      "Epoch 69/100\n",
      "670/670 [==============================] - 0s - loss: 0.7857 - acc: 0.7403 - val_loss: 1.3036 - val_acc: 0.5818\n",
      "Epoch 70/100\n",
      "670/670 [==============================] - 0s - loss: 0.7806 - acc: 0.7373 - val_loss: 1.3021 - val_acc: 0.5909\n",
      "Epoch 71/100\n",
      "670/670 [==============================] - 0s - loss: 0.7766 - acc: 0.7403 - val_loss: 1.3060 - val_acc: 0.5879\n",
      "Epoch 72/100\n",
      "670/670 [==============================] - 0s - loss: 0.7732 - acc: 0.7418 - val_loss: 1.3089 - val_acc: 0.5848\n",
      "Epoch 73/100\n",
      "670/670 [==============================] - 0s - loss: 0.7701 - acc: 0.7418 - val_loss: 1.3077 - val_acc: 0.5909\n",
      "Epoch 74/100\n",
      "670/670 [==============================] - 0s - loss: 0.7641 - acc: 0.7478 - val_loss: 1.3117 - val_acc: 0.5818\n",
      "Epoch 75/100\n",
      "670/670 [==============================] - 0s - loss: 0.7587 - acc: 0.7433 - val_loss: 1.3102 - val_acc: 0.5939\n",
      "Epoch 76/100\n",
      "670/670 [==============================] - 0s - loss: 0.7535 - acc: 0.7463 - val_loss: 1.3121 - val_acc: 0.5909\n",
      "Epoch 77/100\n",
      "670/670 [==============================] - 0s - loss: 0.7498 - acc: 0.7478 - val_loss: 1.3138 - val_acc: 0.5848\n",
      "Epoch 78/100\n",
      "670/670 [==============================] - 0s - loss: 0.7451 - acc: 0.7478 - val_loss: 1.3166 - val_acc: 0.5939\n",
      "Epoch 79/100\n",
      "670/670 [==============================] - 0s - loss: 0.7420 - acc: 0.7448 - val_loss: 1.3202 - val_acc: 0.5879\n",
      "Epoch 80/100\n",
      "670/670 [==============================] - 0s - loss: 0.7382 - acc: 0.7522 - val_loss: 1.3187 - val_acc: 0.5939\n",
      "Epoch 81/100\n",
      "670/670 [==============================] - 0s - loss: 0.7340 - acc: 0.7507 - val_loss: 1.3203 - val_acc: 0.5879\n",
      "Epoch 82/100\n",
      "670/670 [==============================] - 0s - loss: 0.7282 - acc: 0.7552 - val_loss: 1.3230 - val_acc: 0.5939\n",
      "Epoch 83/100\n",
      "670/670 [==============================] - 0s - loss: 0.7250 - acc: 0.7522 - val_loss: 1.3239 - val_acc: 0.5909\n",
      "Epoch 84/100\n",
      "670/670 [==============================] - 0s - loss: 0.7212 - acc: 0.7567 - val_loss: 1.3296 - val_acc: 0.5909\n",
      "Epoch 85/100\n",
      "670/670 [==============================] - 0s - loss: 0.7169 - acc: 0.7582 - val_loss: 1.3292 - val_acc: 0.5909\n",
      "Epoch 86/100\n",
      "670/670 [==============================] - 0s - loss: 0.7140 - acc: 0.7612 - val_loss: 1.3331 - val_acc: 0.5909\n",
      "Epoch 87/100\n",
      "670/670 [==============================] - 0s - loss: 0.7122 - acc: 0.7612 - val_loss: 1.3351 - val_acc: 0.5909\n",
      "Epoch 88/100\n",
      "670/670 [==============================] - 0s - loss: 0.7062 - acc: 0.7597 - val_loss: 1.3308 - val_acc: 0.5879\n",
      "Epoch 89/100\n",
      "670/670 [==============================] - 0s - loss: 0.7016 - acc: 0.7627 - val_loss: 1.3360 - val_acc: 0.5909\n",
      "Epoch 90/100\n",
      "670/670 [==============================] - 0s - loss: 0.6993 - acc: 0.7642 - val_loss: 1.3416 - val_acc: 0.5848\n",
      "Epoch 91/100\n",
      "670/670 [==============================] - 0s - loss: 0.6964 - acc: 0.7657 - val_loss: 1.3411 - val_acc: 0.5879\n",
      "Epoch 92/100\n",
      "670/670 [==============================] - 0s - loss: 0.6919 - acc: 0.7672 - val_loss: 1.3424 - val_acc: 0.5970\n",
      "Epoch 93/100\n",
      "670/670 [==============================] - 0s - loss: 0.6876 - acc: 0.7701 - val_loss: 1.3448 - val_acc: 0.5818\n",
      "Epoch 94/100\n",
      "670/670 [==============================] - 0s - loss: 0.6848 - acc: 0.7746 - val_loss: 1.3447 - val_acc: 0.5909\n",
      "Epoch 95/100\n",
      "670/670 [==============================] - 0s - loss: 0.6813 - acc: 0.7746 - val_loss: 1.3491 - val_acc: 0.5909\n",
      "Epoch 96/100\n",
      "670/670 [==============================] - 0s - loss: 0.6780 - acc: 0.7716 - val_loss: 1.3532 - val_acc: 0.5909\n",
      "Epoch 97/100\n",
      "670/670 [==============================] - 0s - loss: 0.6736 - acc: 0.7806 - val_loss: 1.3530 - val_acc: 0.5939\n",
      "Epoch 98/100\n",
      "670/670 [==============================] - 0s - loss: 0.6710 - acc: 0.7731 - val_loss: 1.3562 - val_acc: 0.5818\n",
      "Epoch 99/100\n",
      "670/670 [==============================] - 0s - loss: 0.6660 - acc: 0.7806 - val_loss: 1.3594 - val_acc: 0.5939\n",
      "Epoch 100/100\n",
      "670/670 [==============================] - 0s - loss: 0.6637 - acc: 0.7821 - val_loss: 1.3577 - val_acc: 0.5939\n"
     ]
    }
   ],
   "source": [
    "model = create_model()\n",
    "history = model.fit(X_train, y_train,\n",
    "                    batch_size=32,\n",
    "                    epochs=100, \n",
    "                    validation_data=(X_val, y_val))"
   ]
  },
  {
   "cell_type": "code",
   "execution_count": 15,
   "metadata": {},
   "outputs": [
    {
     "data": {
      "text/plain": [
       "<matplotlib.legend.Legend at 0x7fd55801fa58>"
      ]
     },
     "execution_count": 15,
     "metadata": {},
     "output_type": "execute_result"
    },
    {
     "data": {
      "image/png": "[encoded data removed]",
      "text/plain": [
       "<Figure size 432x288 with 1 Axes>"
      ]
     },
     "metadata": {
      "needs_background": "light"
     },
     "output_type": "display_data"
    }
   ],
   "source": [
    "plt.plot(history.history['acc'])\n",
    "plt.plot(history.history['val_acc'])\n",
    "plt.legend(['Train Acc', 'Val Acc'])"
   ]
  },
  {
   "cell_type": "code",
   "execution_count": 16,
   "metadata": {},
   "outputs": [
    {
     "data": {
      "text/plain": [
       "<matplotlib.legend.Legend at 0x7fd5500ae550>"
      ]
     },
     "execution_count": 16,
     "metadata": {},
     "output_type": "execute_result"
    },
    {
     "data": {
      "image/png": "[encoded data removed]",
      "text/plain": [
       "<Figure size 432x288 with 1 Axes>"
      ]
     },
     "metadata": {
      "needs_background": "light"
     },
     "output_type": "display_data"
    }
   ],
   "source": [
    "plt.plot(history.history['loss'])\n",
    "plt.plot(history.history['val_loss'])\n",
    "plt.legend(['Train Loss', 'Val Loss'])"
   ]
  },
  {
   "cell_type": "code",
   "execution_count": 17,
   "metadata": {},
   "outputs": [
    {
     "name": "stdout",
     "output_type": "stream",
     "text": [
      "Train\n",
      "              precision    recall  f1-score   support\n",
      "\n",
      "           0       0.84      0.81      0.82        67\n",
      "           1       0.94      0.99      0.96        67\n",
      "           2       0.80      0.70      0.75        67\n",
      "           3       0.66      0.72      0.69        67\n",
      "           4       0.68      0.60      0.63        67\n",
      "           5       0.84      0.79      0.82        67\n",
      "           6       0.78      0.91      0.84        67\n",
      "           7       0.85      0.99      0.91        67\n",
      "           8       0.74      0.75      0.74        67\n",
      "           9       0.72      0.63      0.67        67\n",
      "\n",
      "   micro avg       0.79      0.79      0.79       670\n",
      "   macro avg       0.78      0.79      0.78       670\n",
      "weighted avg       0.78      0.79      0.78       670\n",
      "\n"
     ]
    }
   ],
   "source": [
    "y_train_pred = model.predict(X_train)\n",
    "y_train_pred_max = np.argmax(y_train_pred, axis=1)\n",
    "y_train_max = np.argmax(y_train, axis=1)\n",
    "\n",
    "print('Train')\n",
    "print(classification_report(y_train_max, y_train_pred_max))"
   ]
  },
  {
   "cell_type": "code",
   "execution_count": 18,
   "metadata": {},
   "outputs": [
    {
     "data": {
      "text/plain": [
       "<matplotlib.axes._subplots.AxesSubplot at 0x7fd564cfbc50>"
      ]
     },
     "execution_count": 18,
     "metadata": {},
     "output_type": "execute_result"
    },
    {
     "data": {
      "image/png": "[encoded data removed]",
      "text/plain": [
       "<Figure size 432x288 with 2 Axes>"
      ]
     },
     "metadata": {},
     "output_type": "display_data"
    }
   ],
   "source": [
    "cm = confusion_matrix(y_train_max, y_train_pred_max)\n",
    "sns.set()\n",
    "plt.figure()\n",
    "plt.title('Train')\n",
    "sns.heatmap(cm, annot=True, yticklabels=cls_list, xticklabels=cls_list, cmap='Blues')"
   ]
  },
  {
   "cell_type": "code",
   "execution_count": 19,
   "metadata": {},
   "outputs": [
    {
     "name": "stdout",
     "output_type": "stream",
     "text": [
      "Val\n",
      "              precision    recall  f1-score   support\n",
      "\n",
      "           0       0.75      0.64      0.69        33\n",
      "           1       0.78      0.88      0.83        33\n",
      "           2       0.56      0.58      0.57        33\n",
      "           3       0.45      0.42      0.44        33\n",
      "           4       0.47      0.52      0.49        33\n",
      "           5       0.50      0.52      0.51        33\n",
      "           6       0.86      0.76      0.81        33\n",
      "           7       0.66      0.70      0.68        33\n",
      "           8       0.47      0.52      0.49        33\n",
      "           9       0.47      0.42      0.44        33\n",
      "\n",
      "   micro avg       0.59      0.59      0.59       330\n",
      "   macro avg       0.60      0.59      0.59       330\n",
      "weighted avg       0.60      0.59      0.59       330\n",
      "\n"
     ]
    }
   ],
   "source": [
    "y_pred = model.predict(X_val)\n",
    "y_pred_max = np.argmax(y_pred, axis=1)\n",
    "y_max = np.argmax(y_val, axis=1)\n",
    "\n",
    "print('Val')\n",
    "print(classification_report(y_max, y_pred_max))"
   ]
  },
  {
   "cell_type": "code",
   "execution_count": 20,
   "metadata": {},
   "outputs": [
    {
     "data": {
      "text/plain": [
       "<matplotlib.axes._subplots.AxesSubplot at 0x7fd564347da0>"
      ]
     },
     "execution_count": 20,
     "metadata": {},
     "output_type": "execute_result"
    },
    {
     "data": {
      "image/png": "[encoded data removed]",
      "text/plain": [
       "<Figure size 432x288 with 2 Axes>"
      ]
     },
     "metadata": {},
     "output_type": "display_data"
    }
   ],
   "source": [
    "cm = confusion_matrix(y_max, y_pred_max)\n",
    "sns.set()\n",
    "plt.figure()\n",
    "plt.title('Validation')\n",
    "sns.heatmap(cm, annot=True, yticklabels=cls_list, xticklabels=cls_list, cmap='Blues')"
   ]
  }
 ],
 "metadata": {
  "kernelspec": {
   "display_name": "Python 3",
   "language": "python",
   "name": "python3"
  },
  "language_info": {
   "codemirror_mode": {
    "name": "ipython",
    "version": 3
   },
   "file_extension": ".py",
   "mimetype": "text/x-python",
   "name": "python",
   "nbconvert_exporter": "python",
   "pygments_lexer": "ipython3",
   "version": "3.5.2"
  }
 },
 "nbformat": 4,
 "nbformat_minor": 2
}
