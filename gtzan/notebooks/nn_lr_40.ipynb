{
 "cells": [
  {
   "cell_type": "code",
   "execution_count": 1,
   "metadata": {},
   "outputs": [
    {
     "name": "stderr",
     "output_type": "stream",
     "text": [
      "Using TensorFlow backend.\n"
     ]
    }
   ],
   "source": [
    "from __future__ import print_function\n",
    "\n",
    "import os\n",
    "import numpy as np\n",
    "import pandas as pd\n",
    "import seaborn as sns\n",
    "\n",
    "from tqdm import *\n",
    "import matplotlib.pyplot as plt\n",
    "\n",
    "from sklearn.metrics import confusion_matrix\n",
    "from sklearn.metrics import classification_report\n",
    "from sklearn.linear_model import LogisticRegression\n",
    "from sklearn.model_selection import train_test_split\n",
    "\n",
    "from keras.models import Model\n",
    "from keras.utils import np_utils\n",
    "from keras.layers import Convolution2D, MaxPooling2D\n",
    "from keras.layers import Dense, Dropout, Activation, Flatten, Input\n",
    "\n",
    "%matplotlib inline"
   ]
  },
  {
   "cell_type": "code",
   "execution_count": 2,
   "metadata": {},
   "outputs": [],
   "source": [
    "dataset_path = 'mfccs/40/'\n",
    "cls_list = ['blues',\n",
    "            'classical',\n",
    "            'country',\n",
    "            'disco',\n",
    "            'hiphop',\n",
    "            'jazz',\n",
    "            'metal',\n",
    "            'pop',\n",
    "            'reggae',\n",
    "            'rock']"
   ]
  },
  {
   "cell_type": "markdown",
   "metadata": {},
   "source": [
    "### Data loading and preparation"
   ]
  },
  {
   "cell_type": "code",
   "execution_count": 3,
   "metadata": {},
   "outputs": [
    {
     "name": "stderr",
     "output_type": "stream",
     "text": [
      "100%|██████████| 10/10 [00:17<00:00,  1.81s/it]\n"
     ]
    }
   ],
   "source": [
    "X = []\n",
    "y = []\n",
    "\n",
    "for cls in tqdm(os.listdir(dataset_path)):\n",
    "    cls_path = os.path.join(dataset_path, cls)\n",
    "    \n",
    "    for f in os.listdir(cls_path):\n",
    "        X.append(pd.read_csv(os.path.join(cls_path, f), delimiter=';', header=None).iloc[:, :-1])\n",
    "        y.append(cls_list.index(cls))"
   ]
  },
  {
   "cell_type": "code",
   "execution_count": 4,
   "metadata": {},
   "outputs": [
    {
     "data": {
      "text/plain": [
       "<matplotlib.axes._subplots.AxesSubplot at 0x7f532768b978>"
      ]
     },
     "execution_count": 4,
     "metadata": {},
     "output_type": "execute_result"
    },
    {
     "data": {
      "image/png": "[encoded data removed]",
      "text/plain": [
       "<Figure size 432x288 with 1 Axes>"
      ]
     },
     "metadata": {
      "needs_background": "light"
     },
     "output_type": "display_data"
    }
   ],
   "source": [
    "y_np = np.asarray(y)\n",
    "v, c = np.unique(y_np, return_counts=True)\n",
    "sns.barplot(v, c)"
   ]
  },
  {
   "cell_type": "markdown",
   "metadata": {},
   "source": [
    "#### MFCC simplification\n",
    "Each audio has 13 MFCCs per frame. We are simplifying it by computing the mean of the frames and using the resulting single vector of 13 MFCCs as the audio representation."
   ]
  },
  {
   "cell_type": "code",
   "execution_count": 5,
   "metadata": {},
   "outputs": [
    {
     "name": "stderr",
     "output_type": "stream",
     "text": [
      "1000it [00:00, 1857.83it/s]\n"
     ]
    }
   ],
   "source": [
    "X_std = []\n",
    "\n",
    "for idx, i in tqdm(enumerate(X)):\n",
    "    X_std.append(np.mean(i, axis=0))"
   ]
  },
  {
   "cell_type": "code",
   "execution_count": 6,
   "metadata": {},
   "outputs": [
    {
     "name": "stdout",
     "output_type": "stream",
     "text": [
      "(1000, 40) float64\n"
     ]
    }
   ],
   "source": [
    "X_std = np.asarray(X_std)\n",
    "print(X_std.shape, X_std.dtype)"
   ]
  },
  {
   "cell_type": "markdown",
   "metadata": {},
   "source": [
    "### Train/Val split"
   ]
  },
  {
   "cell_type": "code",
   "execution_count": 7,
   "metadata": {},
   "outputs": [
    {
     "name": "stdout",
     "output_type": "stream",
     "text": [
      "(670, 40) (330, 40) (670,) (330,)\n"
     ]
    }
   ],
   "source": [
    "X_train, X_val, y_train, y_val = train_test_split(X_std, y_np, test_size=0.33, random_state=33, stratify=y_np)\n",
    "print(X_train.shape, X_val.shape, y_train.shape, y_val.shape)"
   ]
  },
  {
   "cell_type": "code",
   "execution_count": 8,
   "metadata": {},
   "outputs": [
    {
     "name": "stdout",
     "output_type": "stream",
     "text": [
      "(670, 10) (330, 10)\n"
     ]
    }
   ],
   "source": [
    "y_train = np_utils.to_categorical(y_train)\n",
    "y_val = np_utils.to_categorical(y_val)\n",
    "print(y_train.shape, y_val.shape)"
   ]
  },
  {
   "cell_type": "code",
   "execution_count": 9,
   "metadata": {},
   "outputs": [],
   "source": [
    "def create_model():\n",
    "    inp = Input(shape=(X_train.shape[1],))\n",
    "    x = Dense(64)(inp)\n",
    "    x = Activation('relu')(x)\n",
    "\n",
    "    x = Dense(10)(x)\n",
    "    x = Activation('softmax')(x)\n",
    "\n",
    "    model = Model(inputs=inp, outputs=x)\n",
    "    model.compile(loss='categorical_crossentropy', metrics=['accuracy'], optimizer='adam')\n",
    "    return model"
   ]
  },
  {
   "cell_type": "code",
   "execution_count": 10,
   "metadata": {},
   "outputs": [
    {
     "name": "stdout",
     "output_type": "stream",
     "text": [
      "_________________________________________________________________\n",
      "Layer (type)                 Output Shape              Param #   \n",
      "=================================================================\n",
      "input_1 (InputLayer)         (None, 40)                0         \n",
      "_________________________________________________________________\n",
      "dense_1 (Dense)              (None, 64)                2624      \n",
      "_________________________________________________________________\n",
      "activation_1 (Activation)    (None, 64)                0         \n",
      "_________________________________________________________________\n",
      "dense_2 (Dense)              (None, 10)                650       \n",
      "_________________________________________________________________\n",
      "activation_2 (Activation)    (None, 10)                0         \n",
      "=================================================================\n",
      "Total params: 3,274.0\n",
      "Trainable params: 3,274.0\n",
      "Non-trainable params: 0.0\n",
      "_________________________________________________________________\n"
     ]
    }
   ],
   "source": [
    "model = create_model()\n",
    "model.summary()"
   ]
  },
  {
   "cell_type": "code",
   "execution_count": 11,
   "metadata": {},
   "outputs": [
    {
     "name": "stdout",
     "output_type": "stream",
     "text": [
      "Train on 670 samples, validate on 330 samples\n",
      "Epoch 1/100\n",
      "670/670 [==============================] - 1s - loss: 14.5063 - acc: 0.1000 - val_loss: 14.5063 - val_acc: 0.1000\n",
      "Epoch 2/100\n",
      "670/670 [==============================] - 0s - loss: 14.5063 - acc: 0.1000 - val_loss: 14.5063 - val_acc: 0.1000\n",
      "Epoch 3/100\n",
      "670/670 [==============================] - 0s - loss: 14.5063 - acc: 0.1000 - val_loss: 14.5063 - val_acc: 0.1000\n",
      "Epoch 4/100\n",
      "670/670 [==============================] - 0s - loss: 14.5063 - acc: 0.1000 - val_loss: 14.5063 - val_acc: 0.1000\n",
      "Epoch 5/100\n",
      "670/670 [==============================] - 0s - loss: 14.5063 - acc: 0.1000 - val_loss: 14.5063 - val_acc: 0.1000\n",
      "Epoch 6/100\n",
      "670/670 [==============================] - 0s - loss: 14.5063 - acc: 0.1000 - val_loss: 14.5063 - val_acc: 0.1000\n",
      "Epoch 7/100\n",
      "670/670 [==============================] - 0s - loss: 14.5063 - acc: 0.1000 - val_loss: 14.5063 - val_acc: 0.1000\n",
      "Epoch 8/100\n",
      "670/670 [==============================] - 0s - loss: 14.5063 - acc: 0.1000 - val_loss: 14.5063 - val_acc: 0.1000\n",
      "Epoch 9/100\n",
      "670/670 [==============================] - 0s - loss: 14.5063 - acc: 0.1000 - val_loss: 14.5063 - val_acc: 0.1000\n",
      "Epoch 10/100\n",
      "670/670 [==============================] - 0s - loss: 14.5063 - acc: 0.1000 - val_loss: 14.5063 - val_acc: 0.1000\n",
      "Epoch 11/100\n",
      "670/670 [==============================] - 0s - loss: 14.5063 - acc: 0.1000 - val_loss: 14.5063 - val_acc: 0.1000\n",
      "Epoch 12/100\n",
      "670/670 [==============================] - 0s - loss: 14.5063 - acc: 0.1000 - val_loss: 14.5063 - val_acc: 0.1000\n",
      "Epoch 13/100\n",
      "670/670 [==============================] - 0s - loss: 14.5063 - acc: 0.1000 - val_loss: 14.5063 - val_acc: 0.1000\n",
      "Epoch 14/100\n",
      "670/670 [==============================] - 0s - loss: 14.5063 - acc: 0.1000 - val_loss: 14.5063 - val_acc: 0.1000\n",
      "Epoch 15/100\n",
      "670/670 [==============================] - 0s - loss: 14.5063 - acc: 0.1000 - val_loss: 14.5063 - val_acc: 0.1000\n",
      "Epoch 16/100\n",
      "670/670 [==============================] - 0s - loss: 14.5063 - acc: 0.1000 - val_loss: 14.5063 - val_acc: 0.1000\n",
      "Epoch 17/100\n",
      "670/670 [==============================] - 0s - loss: 14.5063 - acc: 0.1000 - val_loss: 14.5063 - val_acc: 0.1000\n",
      "Epoch 18/100\n",
      "670/670 [==============================] - 0s - loss: 14.5063 - acc: 0.1000 - val_loss: 14.5063 - val_acc: 0.1000\n",
      "Epoch 19/100\n",
      "670/670 [==============================] - 0s - loss: 14.5063 - acc: 0.1000 - val_loss: 14.5063 - val_acc: 0.1000\n",
      "Epoch 20/100\n",
      "670/670 [==============================] - 0s - loss: 14.5063 - acc: 0.1000 - val_loss: 14.5063 - val_acc: 0.1000\n",
      "Epoch 21/100\n",
      "670/670 [==============================] - 0s - loss: 14.5063 - acc: 0.1000 - val_loss: 14.5063 - val_acc: 0.1000\n",
      "Epoch 22/100\n",
      "670/670 [==============================] - 0s - loss: 14.5063 - acc: 0.1000 - val_loss: 14.5063 - val_acc: 0.1000\n",
      "Epoch 23/100\n",
      "670/670 [==============================] - 0s - loss: 14.5063 - acc: 0.1000 - val_loss: 14.5063 - val_acc: 0.1000\n",
      "Epoch 24/100\n",
      "670/670 [==============================] - 0s - loss: 14.5063 - acc: 0.1000 - val_loss: 14.5063 - val_acc: 0.1000\n",
      "Epoch 25/100\n",
      "670/670 [==============================] - 0s - loss: 14.5063 - acc: 0.1000 - val_loss: 14.5063 - val_acc: 0.1000\n",
      "Epoch 26/100\n",
      "670/670 [==============================] - 0s - loss: 14.5063 - acc: 0.1000 - val_loss: 14.5063 - val_acc: 0.1000\n",
      "Epoch 27/100\n",
      "670/670 [==============================] - 0s - loss: 14.5063 - acc: 0.1000 - val_loss: 14.5063 - val_acc: 0.1000\n",
      "Epoch 28/100\n",
      "670/670 [==============================] - 0s - loss: 14.5063 - acc: 0.1000 - val_loss: 14.5063 - val_acc: 0.1000\n",
      "Epoch 29/100\n",
      "670/670 [==============================] - 0s - loss: 14.5063 - acc: 0.1000 - val_loss: 14.5063 - val_acc: 0.1000\n",
      "Epoch 30/100\n",
      "670/670 [==============================] - 0s - loss: 14.5063 - acc: 0.1000 - val_loss: 14.5063 - val_acc: 0.1000\n",
      "Epoch 31/100\n",
      "670/670 [==============================] - 0s - loss: 14.5063 - acc: 0.1000 - val_loss: 14.5063 - val_acc: 0.1000\n",
      "Epoch 32/100\n",
      "670/670 [==============================] - 0s - loss: 14.5063 - acc: 0.1000 - val_loss: 14.5063 - val_acc: 0.1000\n",
      "Epoch 33/100\n",
      "670/670 [==============================] - 0s - loss: 14.5063 - acc: 0.1000 - val_loss: 14.5063 - val_acc: 0.1000\n",
      "Epoch 34/100\n",
      "670/670 [==============================] - 0s - loss: 14.5063 - acc: 0.1000 - val_loss: 14.5063 - val_acc: 0.1000\n",
      "Epoch 35/100\n",
      "670/670 [==============================] - 0s - loss: 14.5063 - acc: 0.1000 - val_loss: 14.5063 - val_acc: 0.1000\n",
      "Epoch 36/100\n",
      "670/670 [==============================] - 0s - loss: 14.5063 - acc: 0.1000 - val_loss: 14.5063 - val_acc: 0.1000\n",
      "Epoch 37/100\n",
      "670/670 [==============================] - 0s - loss: 14.5063 - acc: 0.1000 - val_loss: 14.5063 - val_acc: 0.1000\n",
      "Epoch 38/100\n",
      "670/670 [==============================] - 0s - loss: 14.5063 - acc: 0.1000 - val_loss: 14.5063 - val_acc: 0.1000\n",
      "Epoch 39/100\n",
      "670/670 [==============================] - 0s - loss: 14.5063 - acc: 0.1000 - val_loss: 14.5063 - val_acc: 0.1000\n",
      "Epoch 40/100\n",
      "670/670 [==============================] - 0s - loss: 14.5063 - acc: 0.1000 - val_loss: 14.5063 - val_acc: 0.1000\n",
      "Epoch 41/100\n",
      "670/670 [==============================] - 0s - loss: 14.5063 - acc: 0.1000 - val_loss: 14.5063 - val_acc: 0.1000\n",
      "Epoch 42/100\n",
      "670/670 [==============================] - 0s - loss: 14.5063 - acc: 0.1000 - val_loss: 14.5063 - val_acc: 0.1000\n",
      "Epoch 43/100\n",
      "670/670 [==============================] - 0s - loss: 14.5063 - acc: 0.1000 - val_loss: 14.5063 - val_acc: 0.1000\n",
      "Epoch 44/100\n",
      "670/670 [==============================] - 0s - loss: 14.5063 - acc: 0.1000 - val_loss: 14.5063 - val_acc: 0.1000\n",
      "Epoch 45/100\n",
      "670/670 [==============================] - 0s - loss: 14.5063 - acc: 0.1000 - val_loss: 14.5063 - val_acc: 0.1000\n",
      "Epoch 46/100\n",
      "670/670 [==============================] - 0s - loss: 14.5063 - acc: 0.1000 - val_loss: 14.5063 - val_acc: 0.1000\n",
      "Epoch 47/100\n",
      "670/670 [==============================] - 0s - loss: 14.5063 - acc: 0.1000 - val_loss: 14.5063 - val_acc: 0.1000\n",
      "Epoch 48/100\n",
      "670/670 [==============================] - 0s - loss: 14.5063 - acc: 0.1000 - val_loss: 14.5063 - val_acc: 0.1000\n",
      "Epoch 49/100\n",
      "670/670 [==============================] - 0s - loss: 14.5063 - acc: 0.1000 - val_loss: 14.5063 - val_acc: 0.1000\n",
      "Epoch 50/100\n",
      "670/670 [==============================] - 0s - loss: 14.5063 - acc: 0.1000 - val_loss: 14.5063 - val_acc: 0.1000\n",
      "Epoch 51/100\n",
      "670/670 [==============================] - 0s - loss: 14.5063 - acc: 0.1000 - val_loss: 14.5063 - val_acc: 0.1000\n",
      "Epoch 52/100\n",
      "670/670 [==============================] - 0s - loss: 14.5063 - acc: 0.1000 - val_loss: 14.5063 - val_acc: 0.1000\n",
      "Epoch 53/100\n",
      "670/670 [==============================] - 0s - loss: 14.5063 - acc: 0.1000 - val_loss: 14.5063 - val_acc: 0.1000\n",
      "Epoch 54/100\n",
      "670/670 [==============================] - 0s - loss: 14.5063 - acc: 0.1000 - val_loss: 14.5063 - val_acc: 0.1000\n",
      "Epoch 55/100\n",
      "670/670 [==============================] - 0s - loss: 14.5063 - acc: 0.1000 - val_loss: 14.5063 - val_acc: 0.1000\n",
      "Epoch 56/100\n",
      "670/670 [==============================] - 0s - loss: 14.5063 - acc: 0.1000 - val_loss: 14.5063 - val_acc: 0.1000\n",
      "Epoch 57/100\n",
      "670/670 [==============================] - 0s - loss: 14.5063 - acc: 0.1000 - val_loss: 14.5063 - val_acc: 0.1000\n",
      "Epoch 58/100\n",
      "670/670 [==============================] - 0s - loss: 14.5063 - acc: 0.1000 - val_loss: 14.5063 - val_acc: 0.1000\n",
      "Epoch 59/100\n",
      "670/670 [==============================] - 0s - loss: 14.5063 - acc: 0.1000 - val_loss: 14.5063 - val_acc: 0.1000\n",
      "Epoch 60/100\n",
      "670/670 [==============================] - 0s - loss: 14.5063 - acc: 0.1000 - val_loss: 14.5063 - val_acc: 0.1000\n",
      "Epoch 61/100\n",
      "670/670 [==============================] - 0s - loss: 14.5063 - acc: 0.1000 - val_loss: 14.5063 - val_acc: 0.1000\n",
      "Epoch 62/100\n",
      "670/670 [==============================] - 0s - loss: 14.5063 - acc: 0.1000 - val_loss: 14.5063 - val_acc: 0.1000\n",
      "Epoch 63/100\n",
      "670/670 [==============================] - 0s - loss: 14.5063 - acc: 0.1000 - val_loss: 14.5063 - val_acc: 0.1000\n",
      "Epoch 64/100\n",
      "670/670 [==============================] - 0s - loss: 14.5063 - acc: 0.1000 - val_loss: 14.5063 - val_acc: 0.1000\n",
      "Epoch 65/100\n"
     ]
    },
    {
     "name": "stdout",
     "output_type": "stream",
     "text": [
      "670/670 [==============================] - 0s - loss: 14.5063 - acc: 0.1000 - val_loss: 14.5063 - val_acc: 0.1000\n",
      "Epoch 66/100\n",
      "670/670 [==============================] - 0s - loss: 14.5063 - acc: 0.1000 - val_loss: 14.5063 - val_acc: 0.1000\n",
      "Epoch 67/100\n",
      "670/670 [==============================] - 0s - loss: 14.5063 - acc: 0.1000 - val_loss: 14.5063 - val_acc: 0.1000\n",
      "Epoch 68/100\n",
      "670/670 [==============================] - 0s - loss: 14.5063 - acc: 0.1000 - val_loss: 14.5063 - val_acc: 0.1000\n",
      "Epoch 69/100\n",
      "670/670 [==============================] - 0s - loss: 14.5063 - acc: 0.1000 - val_loss: 14.5063 - val_acc: 0.1000\n",
      "Epoch 70/100\n",
      "670/670 [==============================] - 0s - loss: 14.5063 - acc: 0.1000 - val_loss: 14.5063 - val_acc: 0.1000\n",
      "Epoch 71/100\n",
      "670/670 [==============================] - 0s - loss: 14.5063 - acc: 0.1000 - val_loss: 14.5063 - val_acc: 0.1000\n",
      "Epoch 72/100\n",
      "670/670 [==============================] - 0s - loss: 14.5063 - acc: 0.1000 - val_loss: 14.5063 - val_acc: 0.1000\n",
      "Epoch 73/100\n",
      "670/670 [==============================] - 0s - loss: 14.5063 - acc: 0.1000 - val_loss: 14.5063 - val_acc: 0.1000\n",
      "Epoch 74/100\n",
      "670/670 [==============================] - 0s - loss: 14.5063 - acc: 0.1000 - val_loss: 14.5063 - val_acc: 0.1000\n",
      "Epoch 75/100\n",
      "670/670 [==============================] - 0s - loss: 14.5063 - acc: 0.1000 - val_loss: 14.5063 - val_acc: 0.1000\n",
      "Epoch 76/100\n",
      "670/670 [==============================] - 0s - loss: 14.5063 - acc: 0.1000 - val_loss: 14.5063 - val_acc: 0.1000\n",
      "Epoch 77/100\n",
      "670/670 [==============================] - 0s - loss: 14.5063 - acc: 0.1000 - val_loss: 14.5063 - val_acc: 0.1000\n",
      "Epoch 78/100\n",
      "670/670 [==============================] - 0s - loss: 14.5063 - acc: 0.1000 - val_loss: 14.5063 - val_acc: 0.1000\n",
      "Epoch 79/100\n",
      "670/670 [==============================] - 0s - loss: 14.5063 - acc: 0.1000 - val_loss: 14.5063 - val_acc: 0.1000\n",
      "Epoch 80/100\n",
      "670/670 [==============================] - 0s - loss: 14.5063 - acc: 0.1000 - val_loss: 14.5063 - val_acc: 0.1000\n",
      "Epoch 81/100\n",
      "670/670 [==============================] - 0s - loss: 14.5063 - acc: 0.1000 - val_loss: 14.5063 - val_acc: 0.1000\n",
      "Epoch 82/100\n",
      "670/670 [==============================] - 0s - loss: 14.5063 - acc: 0.1000 - val_loss: 14.5063 - val_acc: 0.1000\n",
      "Epoch 83/100\n",
      "670/670 [==============================] - 0s - loss: 14.5063 - acc: 0.1000 - val_loss: 14.5063 - val_acc: 0.1000\n",
      "Epoch 84/100\n",
      "670/670 [==============================] - 0s - loss: 14.5063 - acc: 0.1000 - val_loss: 14.5063 - val_acc: 0.1000\n",
      "Epoch 85/100\n",
      "670/670 [==============================] - 0s - loss: 14.5063 - acc: 0.1000 - val_loss: 14.5063 - val_acc: 0.1000\n",
      "Epoch 86/100\n",
      "670/670 [==============================] - 0s - loss: 14.5063 - acc: 0.1000 - val_loss: 14.5063 - val_acc: 0.1000\n",
      "Epoch 87/100\n",
      "670/670 [==============================] - 0s - loss: 14.5063 - acc: 0.1000 - val_loss: 14.5063 - val_acc: 0.1000\n",
      "Epoch 88/100\n",
      "670/670 [==============================] - 0s - loss: 14.5063 - acc: 0.1000 - val_loss: 14.5063 - val_acc: 0.1000\n",
      "Epoch 89/100\n",
      "670/670 [==============================] - 0s - loss: 14.5063 - acc: 0.1000 - val_loss: 14.5063 - val_acc: 0.1000\n",
      "Epoch 90/100\n",
      "670/670 [==============================] - 0s - loss: 14.5063 - acc: 0.1000 - val_loss: 14.5063 - val_acc: 0.1000\n",
      "Epoch 91/100\n",
      "670/670 [==============================] - 0s - loss: 14.5063 - acc: 0.1000 - val_loss: 14.5063 - val_acc: 0.1000\n",
      "Epoch 92/100\n",
      "670/670 [==============================] - 0s - loss: 14.5063 - acc: 0.1000 - val_loss: 14.5063 - val_acc: 0.1000\n",
      "Epoch 93/100\n",
      "670/670 [==============================] - 0s - loss: 14.5063 - acc: 0.1000 - val_loss: 14.5063 - val_acc: 0.1000\n",
      "Epoch 94/100\n",
      "670/670 [==============================] - 0s - loss: 14.5063 - acc: 0.1000 - val_loss: 14.5063 - val_acc: 0.1000\n",
      "Epoch 95/100\n",
      "670/670 [==============================] - 0s - loss: 14.5063 - acc: 0.1000 - val_loss: 14.5063 - val_acc: 0.1000\n",
      "Epoch 96/100\n",
      "670/670 [==============================] - 0s - loss: 14.5063 - acc: 0.1000 - val_loss: 14.5063 - val_acc: 0.1000\n",
      "Epoch 97/100\n",
      "670/670 [==============================] - 0s - loss: 14.5063 - acc: 0.1000 - val_loss: 14.5063 - val_acc: 0.1000\n",
      "Epoch 98/100\n",
      "670/670 [==============================] - 0s - loss: 14.5063 - acc: 0.1000 - val_loss: 14.5063 - val_acc: 0.1000\n",
      "Epoch 99/100\n",
      "670/670 [==============================] - 0s - loss: 14.5063 - acc: 0.1000 - val_loss: 14.5063 - val_acc: 0.1000\n",
      "Epoch 100/100\n",
      "670/670 [==============================] - 0s - loss: 14.5063 - acc: 0.1000 - val_loss: 14.5063 - val_acc: 0.1000\n"
     ]
    }
   ],
   "source": [
    "history = model.fit(X_train, y_train,\n",
    "                    batch_size=32,\n",
    "                    epochs=100, \n",
    "                    validation_data=(X_val, y_val))"
   ]
  },
  {
   "cell_type": "code",
   "execution_count": 12,
   "metadata": {},
   "outputs": [
    {
     "name": "stdout",
     "output_type": "stream",
     "text": [
      "Train\n",
      "              precision    recall  f1-score   support\n",
      "\n",
      "           0       0.00      0.00      0.00        67\n",
      "           1       0.00      0.00      0.00        67\n",
      "           2       0.00      0.00      0.00        67\n",
      "           3       0.00      0.00      0.00        67\n",
      "           4       0.00      0.00      0.00        67\n",
      "           5       0.00      0.00      0.00        67\n",
      "           6       0.00      0.00      0.00        67\n",
      "           7       0.00      0.00      0.00        67\n",
      "           8       0.10      1.00      0.18        67\n",
      "           9       0.00      0.00      0.00        67\n",
      "\n",
      "   micro avg       0.10      0.10      0.10       670\n",
      "   macro avg       0.01      0.10      0.02       670\n",
      "weighted avg       0.01      0.10      0.02       670\n",
      "\n"
     ]
    },
    {
     "name": "stderr",
     "output_type": "stream",
     "text": [
      "/home/thomas/.envs/py3/lib/python3.5/site-packages/sklearn/metrics/classification.py:1143: UndefinedMetricWarning: Precision and F-score are ill-defined and being set to 0.0 in labels with no predicted samples.\n",
      "  'precision', 'predicted', average, warn_for)\n"
     ]
    }
   ],
   "source": [
    "y_train_pred = model.predict(X_train)\n",
    "y_train_pred_max = np.argmax(y_train_pred, axis=1)\n",
    "y_train_max = np.argmax(y_train, axis=1)\n",
    "\n",
    "print('Train')\n",
    "print(classification_report(y_train_max, y_train_pred_max))"
   ]
  },
  {
   "cell_type": "code",
   "execution_count": 13,
   "metadata": {},
   "outputs": [
    {
     "data": {
      "text/plain": [
       "<matplotlib.axes._subplots.AxesSubplot at 0x7f532404b278>"
      ]
     },
     "execution_count": 13,
     "metadata": {},
     "output_type": "execute_result"
    },
    {
     "data": {
      "image/png": "[encoded data removed]",
      "text/plain": [
       "<Figure size 432x288 with 2 Axes>"
      ]
     },
     "metadata": {},
     "output_type": "display_data"
    }
   ],
   "source": [
    "cm = confusion_matrix(y_train_max, y_train_pred_max)\n",
    "sns.set()\n",
    "plt.figure()\n",
    "plt.title('Train')\n",
    "sns.heatmap(cm, annot=True, yticklabels=cls_list, xticklabels=cls_list, cmap='Blues')"
   ]
  },
  {
   "cell_type": "code",
   "execution_count": 14,
   "metadata": {},
   "outputs": [
    {
     "name": "stdout",
     "output_type": "stream",
     "text": [
      "Val\n",
      "              precision    recall  f1-score   support\n",
      "\n",
      "           0       0.00      0.00      0.00        33\n",
      "           1       0.00      0.00      0.00        33\n",
      "           2       0.00      0.00      0.00        33\n",
      "           3       0.00      0.00      0.00        33\n",
      "           4       0.00      0.00      0.00        33\n",
      "           5       0.00      0.00      0.00        33\n",
      "           6       0.00      0.00      0.00        33\n",
      "           7       0.00      0.00      0.00        33\n",
      "           8       0.10      1.00      0.18        33\n",
      "           9       0.00      0.00      0.00        33\n",
      "\n",
      "   micro avg       0.10      0.10      0.10       330\n",
      "   macro avg       0.01      0.10      0.02       330\n",
      "weighted avg       0.01      0.10      0.02       330\n",
      "\n"
     ]
    }
   ],
   "source": [
    "y_pred = model.predict(X_val)\n",
    "y_pred_max = np.argmax(y_pred, axis=1)\n",
    "y_max = np.argmax(y_val, axis=1)\n",
    "\n",
    "print('Val')\n",
    "print(classification_report(y_max, y_pred_max))"
   ]
  },
  {
   "cell_type": "code",
   "execution_count": 15,
   "metadata": {},
   "outputs": [
    {
     "data": {
      "text/plain": [
       "<matplotlib.axes._subplots.AxesSubplot at 0x7f532404b320>"
      ]
     },
     "execution_count": 15,
     "metadata": {},
     "output_type": "execute_result"
    },
    {
     "data": {
      "image/png": "[encoded data removed]",
      "text/plain": [
       "<Figure size 432x288 with 2 Axes>"
      ]
     },
     "metadata": {},
     "output_type": "display_data"
    }
   ],
   "source": [
    "cm = confusion_matrix(y_max, y_pred_max)\n",
    "sns.set()\n",
    "plt.figure()\n",
    "plt.title('Validation')\n",
    "sns.heatmap(cm, annot=True, yticklabels=cls_list, xticklabels=cls_list, cmap='Blues')"
   ]
  },
  {
   "cell_type": "markdown",
   "metadata": {},
   "source": [
    "### With normalization"
   ]
  },
  {
   "cell_type": "code",
   "execution_count": 16,
   "metadata": {},
   "outputs": [
    {
     "name": "stdout",
     "output_type": "stream",
     "text": [
      "Means: [-6.53808734e+02  1.32766258e+02 -6.54445158e+00  3.43617182e+01\n",
      " -3.21652776e+00  1.20373480e+01 -7.91854426e+00  9.99209549e+00\n",
      " -8.24767138e+00  7.48773155e+00 -6.81376813e+00  4.14279644e+00\n",
      " -5.15811964e+00  2.85165615e+00 -4.67715837e+00  2.94904437e+00\n",
      " -3.72998449e+00  1.40751977e+00 -2.30915623e+00  1.23938803e+00\n",
      " -2.79040191e+00  7.06994866e-01 -1.70274159e+00  2.18609142e-01\n",
      " -1.72936133e+00  2.10461578e-01 -1.76033658e+00 -8.86715036e-02\n",
      " -1.31601389e+00 -9.48223939e-02 -1.31549367e+00 -3.40067214e-01\n",
      " -1.04831357e+00 -4.12278269e-02 -7.17741366e-01 -1.04958788e-01\n",
      " -4.72918123e-01 -1.72161568e-01 -1.89269007e-01  1.19526117e-01]\n",
      "Stds: [100.98844456  35.96154347  24.49787439  20.23931133  12.09306296\n",
      "  13.28726356  10.07597066  10.23729255   7.87971411   7.2540294\n",
      "   6.96765583   5.6869502    5.68834812   4.74781843   4.96506174\n",
      "   4.4625736    4.14259406   3.73595479   3.89018825   3.17528634\n",
      "   3.31421975   2.85206804   2.9525473    2.64310153   2.41000717\n",
      "   2.21229286   2.18933325   2.14641619   1.90232951   2.04101144\n",
      "   1.79349494   1.58756      1.72630686   1.46754797   1.21221521\n",
      "   1.34872905   1.25947034   1.08968243   1.25470919   1.33059475]\n"
     ]
    }
   ],
   "source": [
    "X_train_means = X_train.mean(axis=0)\n",
    "X_train_stds = X_train.std(axis=0)\n",
    "\n",
    "print('Means:', X_train_means)\n",
    "print('Stds:', X_train_stds)"
   ]
  },
  {
   "cell_type": "code",
   "execution_count": 17,
   "metadata": {},
   "outputs": [
    {
     "name": "stdout",
     "output_type": "stream",
     "text": [
      "Means: [ 1.96625469e-15 -1.42978498e-15  2.12102309e-17 -1.05852309e-15\n",
      "  2.49883033e-16 -1.76020061e-16  5.99851843e-16  1.11436565e-16\n",
      "  1.61313748e-16 -3.93911686e-17 -6.42935125e-16 -4.23210389e-16\n",
      " -7.49359115e-16 -7.22473491e-17  1.10558329e-15 -3.92472124e-16\n",
      " -1.33945508e-15  1.29912664e-16  3.63556614e-16  1.12513647e-16\n",
      "  4.09622585e-16 -1.84595291e-16 -1.43997583e-16  1.44577551e-16\n",
      "  3.58585466e-16  3.03240020e-17 -2.69912616e-16 -2.10445260e-17\n",
      " -2.28507097e-16 -1.88903619e-17 -2.84515363e-16 -1.55845486e-16\n",
      " -4.72259048e-16  2.17901982e-17 -1.09779515e-16 -9.74344983e-17\n",
      " -2.24789093e-17  2.45243295e-17  5.12028231e-17 -1.18313319e-16]\n",
      "Std: [1. 1. 1. 1. 1. 1. 1. 1. 1. 1. 1. 1. 1. 1. 1. 1. 1. 1. 1. 1. 1. 1. 1. 1.\n",
      " 1. 1. 1. 1. 1. 1. 1. 1. 1. 1. 1. 1. 1. 1. 1. 1.]\n"
     ]
    }
   ],
   "source": [
    "X_train -= X_train_means\n",
    "X_train /= X_train_stds\n",
    "\n",
    "print('Means:', X_train.mean(axis=0))\n",
    "print('Std:', X_train.std(axis=0))"
   ]
  },
  {
   "cell_type": "code",
   "execution_count": 18,
   "metadata": {},
   "outputs": [],
   "source": [
    "X_val -= X_train_means\n",
    "X_val /= X_train_stds"
   ]
  },
  {
   "cell_type": "code",
   "execution_count": 19,
   "metadata": {},
   "outputs": [
    {
     "name": "stdout",
     "output_type": "stream",
     "text": [
      "Train on 670 samples, validate on 330 samples\n",
      "Epoch 1/100\n",
      "670/670 [==============================] - 0s - loss: 2.5529 - acc: 0.1015 - val_loss: 2.3678 - val_acc: 0.1152\n",
      "Epoch 2/100\n",
      "670/670 [==============================] - 0s - loss: 2.1848 - acc: 0.2149 - val_loss: 2.1214 - val_acc: 0.2273\n",
      "Epoch 3/100\n",
      "670/670 [==============================] - 0s - loss: 1.9533 - acc: 0.3448 - val_loss: 1.9475 - val_acc: 0.3212\n",
      "Epoch 4/100\n",
      "670/670 [==============================] - 0s - loss: 1.7764 - acc: 0.4060 - val_loss: 1.8223 - val_acc: 0.3576\n",
      "Epoch 5/100\n",
      "670/670 [==============================] - 0s - loss: 1.6403 - acc: 0.4373 - val_loss: 1.7279 - val_acc: 0.3758\n",
      "Epoch 6/100\n",
      "670/670 [==============================] - 0s - loss: 1.5301 - acc: 0.4776 - val_loss: 1.6486 - val_acc: 0.4030\n",
      "Epoch 7/100\n",
      "670/670 [==============================] - 0s - loss: 1.4368 - acc: 0.5209 - val_loss: 1.5911 - val_acc: 0.4273\n",
      "Epoch 8/100\n",
      "670/670 [==============================] - 0s - loss: 1.3568 - acc: 0.5537 - val_loss: 1.5377 - val_acc: 0.4394\n",
      "Epoch 9/100\n",
      "670/670 [==============================] - 0s - loss: 1.2869 - acc: 0.5761 - val_loss: 1.4950 - val_acc: 0.4545\n",
      "Epoch 10/100\n",
      "670/670 [==============================] - 0s - loss: 1.2251 - acc: 0.6149 - val_loss: 1.4612 - val_acc: 0.4758\n",
      "Epoch 11/100\n",
      "670/670 [==============================] - 0s - loss: 1.1715 - acc: 0.6284 - val_loss: 1.4317 - val_acc: 0.4970\n",
      "Epoch 12/100\n",
      "670/670 [==============================] - 0s - loss: 1.1225 - acc: 0.6433 - val_loss: 1.4095 - val_acc: 0.5212\n",
      "Epoch 13/100\n",
      "670/670 [==============================] - 0s - loss: 1.0763 - acc: 0.6701 - val_loss: 1.3870 - val_acc: 0.5212\n",
      "Epoch 14/100\n",
      "670/670 [==============================] - 0s - loss: 1.0349 - acc: 0.6821 - val_loss: 1.3708 - val_acc: 0.5242\n",
      "Epoch 15/100\n",
      "670/670 [==============================] - 0s - loss: 0.9983 - acc: 0.6925 - val_loss: 1.3547 - val_acc: 0.5333\n",
      "Epoch 16/100\n",
      "670/670 [==============================] - 0s - loss: 0.9635 - acc: 0.7090 - val_loss: 1.3438 - val_acc: 0.5273\n",
      "Epoch 17/100\n",
      "670/670 [==============================] - 0s - loss: 0.9296 - acc: 0.7299 - val_loss: 1.3314 - val_acc: 0.5424\n",
      "Epoch 18/100\n",
      "670/670 [==============================] - 0s - loss: 0.8992 - acc: 0.7388 - val_loss: 1.3231 - val_acc: 0.5394\n",
      "Epoch 19/100\n",
      "670/670 [==============================] - 0s - loss: 0.8710 - acc: 0.7478 - val_loss: 1.3187 - val_acc: 0.5394\n",
      "Epoch 20/100\n",
      "670/670 [==============================] - 0s - loss: 0.8433 - acc: 0.7582 - val_loss: 1.3093 - val_acc: 0.5364\n",
      "Epoch 21/100\n",
      "670/670 [==============================] - 0s - loss: 0.8185 - acc: 0.7687 - val_loss: 1.3078 - val_acc: 0.5455\n",
      "Epoch 22/100\n",
      "670/670 [==============================] - 0s - loss: 0.7927 - acc: 0.7731 - val_loss: 1.3010 - val_acc: 0.5455\n",
      "Epoch 23/100\n",
      "670/670 [==============================] - 0s - loss: 0.7702 - acc: 0.7761 - val_loss: 1.2966 - val_acc: 0.5515\n",
      "Epoch 24/100\n",
      "670/670 [==============================] - 0s - loss: 0.7481 - acc: 0.7851 - val_loss: 1.2988 - val_acc: 0.5545\n",
      "Epoch 25/100\n",
      "670/670 [==============================] - 0s - loss: 0.7265 - acc: 0.7851 - val_loss: 1.2953 - val_acc: 0.5576\n",
      "Epoch 26/100\n",
      "670/670 [==============================] - 0s - loss: 0.7060 - acc: 0.7970 - val_loss: 1.2968 - val_acc: 0.5606\n",
      "Epoch 27/100\n",
      "670/670 [==============================] - 0s - loss: 0.6881 - acc: 0.8000 - val_loss: 1.2947 - val_acc: 0.5636\n",
      "Epoch 28/100\n",
      "670/670 [==============================] - 0s - loss: 0.6672 - acc: 0.8060 - val_loss: 1.2969 - val_acc: 0.5636\n",
      "Epoch 29/100\n",
      "670/670 [==============================] - 0s - loss: 0.6511 - acc: 0.8134 - val_loss: 1.2940 - val_acc: 0.5606\n",
      "Epoch 30/100\n",
      "670/670 [==============================] - 0s - loss: 0.6312 - acc: 0.8239 - val_loss: 1.2956 - val_acc: 0.5606\n",
      "Epoch 31/100\n",
      "670/670 [==============================] - 0s - loss: 0.6150 - acc: 0.8358 - val_loss: 1.2996 - val_acc: 0.5667\n",
      "Epoch 32/100\n",
      "670/670 [==============================] - 0s - loss: 0.5985 - acc: 0.8373 - val_loss: 1.3006 - val_acc: 0.5697\n",
      "Epoch 33/100\n",
      "670/670 [==============================] - 0s - loss: 0.5834 - acc: 0.8463 - val_loss: 1.3019 - val_acc: 0.5636\n",
      "Epoch 34/100\n",
      "670/670 [==============================] - 0s - loss: 0.5687 - acc: 0.8522 - val_loss: 1.3052 - val_acc: 0.5576\n",
      "Epoch 35/100\n",
      "670/670 [==============================] - 0s - loss: 0.5548 - acc: 0.8552 - val_loss: 1.3025 - val_acc: 0.5636\n",
      "Epoch 36/100\n",
      "670/670 [==============================] - 0s - loss: 0.5399 - acc: 0.8687 - val_loss: 1.3099 - val_acc: 0.5606\n",
      "Epoch 37/100\n",
      "670/670 [==============================] - 0s - loss: 0.5246 - acc: 0.8716 - val_loss: 1.3141 - val_acc: 0.5636\n",
      "Epoch 38/100\n",
      "670/670 [==============================] - 0s - loss: 0.5123 - acc: 0.8776 - val_loss: 1.3172 - val_acc: 0.5667\n",
      "Epoch 39/100\n",
      "670/670 [==============================] - 0s - loss: 0.4991 - acc: 0.8806 - val_loss: 1.3174 - val_acc: 0.5758\n",
      "Epoch 40/100\n",
      "670/670 [==============================] - 0s - loss: 0.4885 - acc: 0.8821 - val_loss: 1.3246 - val_acc: 0.5727\n",
      "Epoch 41/100\n",
      "670/670 [==============================] - 0s - loss: 0.4750 - acc: 0.8910 - val_loss: 1.3288 - val_acc: 0.5788\n",
      "Epoch 42/100\n",
      "670/670 [==============================] - 0s - loss: 0.4635 - acc: 0.8955 - val_loss: 1.3327 - val_acc: 0.5848\n",
      "Epoch 43/100\n",
      "670/670 [==============================] - 0s - loss: 0.4513 - acc: 0.8985 - val_loss: 1.3384 - val_acc: 0.5758\n",
      "Epoch 44/100\n",
      "670/670 [==============================] - 0s - loss: 0.4407 - acc: 0.9090 - val_loss: 1.3416 - val_acc: 0.5788\n",
      "Epoch 45/100\n",
      "670/670 [==============================] - 0s - loss: 0.4299 - acc: 0.9164 - val_loss: 1.3477 - val_acc: 0.5758\n",
      "Epoch 46/100\n",
      "670/670 [==============================] - 0s - loss: 0.4191 - acc: 0.9134 - val_loss: 1.3527 - val_acc: 0.5697\n",
      "Epoch 47/100\n",
      "670/670 [==============================] - 0s - loss: 0.4090 - acc: 0.9179 - val_loss: 1.3620 - val_acc: 0.5697\n",
      "Epoch 48/100\n",
      "670/670 [==============================] - 0s - loss: 0.3982 - acc: 0.9269 - val_loss: 1.3702 - val_acc: 0.5697\n",
      "Epoch 49/100\n",
      "670/670 [==============================] - 0s - loss: 0.3885 - acc: 0.9269 - val_loss: 1.3678 - val_acc: 0.5667\n",
      "Epoch 50/100\n",
      "670/670 [==============================] - 0s - loss: 0.3801 - acc: 0.9328 - val_loss: 1.3790 - val_acc: 0.5606\n",
      "Epoch 51/100\n",
      "670/670 [==============================] - 0s - loss: 0.3706 - acc: 0.9358 - val_loss: 1.3842 - val_acc: 0.5606\n",
      "Epoch 52/100\n",
      "670/670 [==============================] - 0s - loss: 0.3605 - acc: 0.9358 - val_loss: 1.3900 - val_acc: 0.5576\n",
      "Epoch 53/100\n",
      "670/670 [==============================] - 0s - loss: 0.3524 - acc: 0.9358 - val_loss: 1.4031 - val_acc: 0.5545\n",
      "Epoch 54/100\n",
      "670/670 [==============================] - 0s - loss: 0.3440 - acc: 0.9403 - val_loss: 1.4046 - val_acc: 0.5515\n",
      "Epoch 55/100\n",
      "670/670 [==============================] - 0s - loss: 0.3353 - acc: 0.9373 - val_loss: 1.4150 - val_acc: 0.5515\n",
      "Epoch 56/100\n",
      "670/670 [==============================] - 0s - loss: 0.3272 - acc: 0.9433 - val_loss: 1.4216 - val_acc: 0.5576\n",
      "Epoch 57/100\n",
      "670/670 [==============================] - 0s - loss: 0.3191 - acc: 0.9448 - val_loss: 1.4289 - val_acc: 0.5576\n",
      "Epoch 58/100\n",
      "670/670 [==============================] - 0s - loss: 0.3116 - acc: 0.9433 - val_loss: 1.4338 - val_acc: 0.5515\n",
      "Epoch 59/100\n",
      "670/670 [==============================] - 0s - loss: 0.3038 - acc: 0.9478 - val_loss: 1.4420 - val_acc: 0.5576\n",
      "Epoch 60/100\n",
      "670/670 [==============================] - 0s - loss: 0.2960 - acc: 0.9493 - val_loss: 1.4504 - val_acc: 0.5606\n",
      "Epoch 61/100\n",
      "670/670 [==============================] - 0s - loss: 0.2898 - acc: 0.9493 - val_loss: 1.4595 - val_acc: 0.5515\n",
      "Epoch 62/100\n",
      "670/670 [==============================] - 0s - loss: 0.2822 - acc: 0.9537 - val_loss: 1.4670 - val_acc: 0.5576\n",
      "Epoch 63/100\n",
      "670/670 [==============================] - 0s - loss: 0.2745 - acc: 0.9552 - val_loss: 1.4739 - val_acc: 0.5485\n",
      "Epoch 64/100\n",
      "670/670 [==============================] - 0s - loss: 0.2681 - acc: 0.9552 - val_loss: 1.4860 - val_acc: 0.5545\n",
      "Epoch 65/100\n",
      "670/670 [==============================] - 0s - loss: 0.2614 - acc: 0.9582 - val_loss: 1.4887 - val_acc: 0.5545\n",
      "Epoch 66/100\n"
     ]
    },
    {
     "name": "stdout",
     "output_type": "stream",
     "text": [
      "670/670 [==============================] - 0s - loss: 0.2553 - acc: 0.9612 - val_loss: 1.4992 - val_acc: 0.5515\n",
      "Epoch 67/100\n",
      "670/670 [==============================] - 0s - loss: 0.2481 - acc: 0.9642 - val_loss: 1.5070 - val_acc: 0.5515\n",
      "Epoch 68/100\n",
      "670/670 [==============================] - 0s - loss: 0.2423 - acc: 0.9642 - val_loss: 1.5198 - val_acc: 0.5545\n",
      "Epoch 69/100\n",
      "670/670 [==============================] - 0s - loss: 0.2353 - acc: 0.9687 - val_loss: 1.5238 - val_acc: 0.5545\n",
      "Epoch 70/100\n",
      "670/670 [==============================] - 0s - loss: 0.2295 - acc: 0.9687 - val_loss: 1.5327 - val_acc: 0.5545\n",
      "Epoch 71/100\n",
      "670/670 [==============================] - 0s - loss: 0.2234 - acc: 0.9731 - val_loss: 1.5420 - val_acc: 0.5545\n",
      "Epoch 72/100\n",
      "670/670 [==============================] - 0s - loss: 0.2182 - acc: 0.9731 - val_loss: 1.5507 - val_acc: 0.5545\n",
      "Epoch 73/100\n",
      "670/670 [==============================] - 0s - loss: 0.2131 - acc: 0.9731 - val_loss: 1.5608 - val_acc: 0.5485\n",
      "Epoch 74/100\n",
      "670/670 [==============================] - 0s - loss: 0.2077 - acc: 0.9761 - val_loss: 1.5645 - val_acc: 0.5545\n",
      "Epoch 75/100\n",
      "670/670 [==============================] - 0s - loss: 0.2028 - acc: 0.9746 - val_loss: 1.5776 - val_acc: 0.5576\n",
      "Epoch 76/100\n",
      "670/670 [==============================] - 0s - loss: 0.1969 - acc: 0.9776 - val_loss: 1.5876 - val_acc: 0.5485\n",
      "Epoch 77/100\n",
      "670/670 [==============================] - 0s - loss: 0.1921 - acc: 0.9821 - val_loss: 1.5954 - val_acc: 0.5545\n",
      "Epoch 78/100\n",
      "670/670 [==============================] - 0s - loss: 0.1875 - acc: 0.9821 - val_loss: 1.6065 - val_acc: 0.5545\n",
      "Epoch 79/100\n",
      "670/670 [==============================] - 0s - loss: 0.1821 - acc: 0.9866 - val_loss: 1.6143 - val_acc: 0.5545\n",
      "Epoch 80/100\n",
      "670/670 [==============================] - 0s - loss: 0.1790 - acc: 0.9881 - val_loss: 1.6238 - val_acc: 0.5515\n",
      "Epoch 81/100\n",
      "670/670 [==============================] - 0s - loss: 0.1747 - acc: 0.9910 - val_loss: 1.6272 - val_acc: 0.5485\n",
      "Epoch 82/100\n",
      "670/670 [==============================] - 0s - loss: 0.1700 - acc: 0.9910 - val_loss: 1.6443 - val_acc: 0.5515\n",
      "Epoch 83/100\n",
      "670/670 [==============================] - 0s - loss: 0.1650 - acc: 0.9940 - val_loss: 1.6471 - val_acc: 0.5576\n",
      "Epoch 84/100\n",
      "670/670 [==============================] - 0s - loss: 0.1609 - acc: 0.9940 - val_loss: 1.6631 - val_acc: 0.5515\n",
      "Epoch 85/100\n",
      "670/670 [==============================] - 0s - loss: 0.1569 - acc: 0.9940 - val_loss: 1.6672 - val_acc: 0.5515\n",
      "Epoch 86/100\n",
      "670/670 [==============================] - 0s - loss: 0.1535 - acc: 0.9940 - val_loss: 1.6785 - val_acc: 0.5545\n",
      "Epoch 87/100\n",
      "670/670 [==============================] - 0s - loss: 0.1492 - acc: 0.9940 - val_loss: 1.6889 - val_acc: 0.5545\n",
      "Epoch 88/100\n",
      "670/670 [==============================] - 0s - loss: 0.1453 - acc: 0.9940 - val_loss: 1.6959 - val_acc: 0.5515\n",
      "Epoch 89/100\n",
      "670/670 [==============================] - 0s - loss: 0.1420 - acc: 0.9955 - val_loss: 1.7062 - val_acc: 0.5515\n",
      "Epoch 90/100\n",
      "670/670 [==============================] - 0s - loss: 0.1384 - acc: 0.9955 - val_loss: 1.7138 - val_acc: 0.5515\n",
      "Epoch 91/100\n",
      "670/670 [==============================] - 0s - loss: 0.1352 - acc: 0.9955 - val_loss: 1.7246 - val_acc: 0.5515\n",
      "Epoch 92/100\n",
      "670/670 [==============================] - 0s - loss: 0.1314 - acc: 0.9970 - val_loss: 1.7339 - val_acc: 0.5485\n",
      "Epoch 93/100\n",
      "670/670 [==============================] - 0s - loss: 0.1287 - acc: 0.9970 - val_loss: 1.7446 - val_acc: 0.5515\n",
      "Epoch 94/100\n",
      "670/670 [==============================] - 0s - loss: 0.1252 - acc: 0.9970 - val_loss: 1.7540 - val_acc: 0.5576\n",
      "Epoch 95/100\n",
      "670/670 [==============================] - 0s - loss: 0.1225 - acc: 0.9970 - val_loss: 1.7615 - val_acc: 0.5515\n",
      "Epoch 96/100\n",
      "670/670 [==============================] - 0s - loss: 0.1192 - acc: 0.9970 - val_loss: 1.7733 - val_acc: 0.5515\n",
      "Epoch 97/100\n",
      "670/670 [==============================] - 0s - loss: 0.1167 - acc: 0.9970 - val_loss: 1.7812 - val_acc: 0.5515\n",
      "Epoch 98/100\n",
      "670/670 [==============================] - 0s - loss: 0.1136 - acc: 0.9970 - val_loss: 1.7920 - val_acc: 0.5515\n",
      "Epoch 99/100\n",
      "670/670 [==============================] - 0s - loss: 0.1110 - acc: 0.9970 - val_loss: 1.8009 - val_acc: 0.5515\n",
      "Epoch 100/100\n",
      "670/670 [==============================] - 0s - loss: 0.1082 - acc: 0.9970 - val_loss: 1.8081 - val_acc: 0.5606\n"
     ]
    }
   ],
   "source": [
    "model = create_model()\n",
    "\n",
    "history = model.fit(X_train, y_train,\n",
    "                    batch_size=32,\n",
    "                    epochs=100, \n",
    "                    validation_data=(X_val, y_val))"
   ]
  },
  {
   "cell_type": "code",
   "execution_count": 20,
   "metadata": {},
   "outputs": [
    {
     "name": "stdout",
     "output_type": "stream",
     "text": [
      "Train\n",
      "              precision    recall  f1-score   support\n",
      "\n",
      "           0       1.00      1.00      1.00        67\n",
      "           1       1.00      1.00      1.00        67\n",
      "           2       1.00      1.00      1.00        67\n",
      "           3       1.00      0.99      0.99        67\n",
      "           4       1.00      0.99      0.99        67\n",
      "           5       0.99      1.00      0.99        67\n",
      "           6       1.00      1.00      1.00        67\n",
      "           7       1.00      1.00      1.00        67\n",
      "           8       0.99      1.00      0.99        67\n",
      "           9       1.00      1.00      1.00        67\n",
      "\n",
      "   micro avg       1.00      1.00      1.00       670\n",
      "   macro avg       1.00      1.00      1.00       670\n",
      "weighted avg       1.00      1.00      1.00       670\n",
      "\n"
     ]
    }
   ],
   "source": [
    "y_train_pred = model.predict(X_train)\n",
    "y_train_pred_max = np.argmax(y_train_pred, axis=1)\n",
    "y_train_max = np.argmax(y_train, axis=1)\n",
    "\n",
    "print('Train')\n",
    "print(classification_report(y_train_max, y_train_pred_max))"
   ]
  },
  {
   "cell_type": "code",
   "execution_count": 21,
   "metadata": {},
   "outputs": [
    {
     "data": {
      "text/plain": [
       "<matplotlib.axes._subplots.AxesSubplot at 0x7f53243f35c0>"
      ]
     },
     "execution_count": 21,
     "metadata": {},
     "output_type": "execute_result"
    },
    {
     "data": {
      "image/png": "[encoded data removed]",
      "text/plain": [
       "<Figure size 432x288 with 2 Axes>"
      ]
     },
     "metadata": {},
     "output_type": "display_data"
    }
   ],
   "source": [
    "cm = confusion_matrix(y_train_max, y_train_pred_max)\n",
    "sns.set()\n",
    "plt.figure()\n",
    "plt.title('Train')\n",
    "sns.heatmap(cm, annot=True, yticklabels=cls_list, xticklabels=cls_list, cmap='Blues')"
   ]
  },
  {
   "cell_type": "code",
   "execution_count": 22,
   "metadata": {},
   "outputs": [
    {
     "name": "stdout",
     "output_type": "stream",
     "text": [
      "Val\n",
      "              precision    recall  f1-score   support\n",
      "\n",
      "           0       0.68      0.45      0.55        33\n",
      "           1       0.82      0.85      0.84        33\n",
      "           2       0.45      0.55      0.49        33\n",
      "           3       0.42      0.39      0.41        33\n",
      "           4       0.43      0.45      0.44        33\n",
      "           5       0.57      0.61      0.59        33\n",
      "           6       0.75      0.73      0.74        33\n",
      "           7       0.74      0.61      0.67        33\n",
      "           8       0.47      0.55      0.51        33\n",
      "           9       0.39      0.42      0.41        33\n",
      "\n",
      "   micro avg       0.56      0.56      0.56       330\n",
      "   macro avg       0.57      0.56      0.56       330\n",
      "weighted avg       0.57      0.56      0.56       330\n",
      "\n"
     ]
    }
   ],
   "source": [
    "y_pred = model.predict(X_val)\n",
    "y_pred_max = np.argmax(y_pred, axis=1)\n",
    "y_max = np.argmax(y_val, axis=1)\n",
    "\n",
    "print('Val')\n",
    "print(classification_report(y_max, y_pred_max))"
   ]
  },
  {
   "cell_type": "code",
   "execution_count": 23,
   "metadata": {},
   "outputs": [
    {
     "data": {
      "text/plain": [
       "<matplotlib.axes._subplots.AxesSubplot at 0x7f529e626320>"
      ]
     },
     "execution_count": 23,
     "metadata": {},
     "output_type": "execute_result"
    },
    {
     "data": {
      "image/png": "[encoded data removed]",
      "text/plain": [
       "<Figure size 432x288 with 2 Axes>"
      ]
     },
     "metadata": {},
     "output_type": "display_data"
    }
   ],
   "source": [
    "cm = confusion_matrix(y_max, y_pred_max)\n",
    "sns.set()\n",
    "plt.figure()\n",
    "plt.title('Validation')\n",
    "sns.heatmap(cm, annot=True, yticklabels=cls_list, xticklabels=cls_list, cmap='Blues')"
   ]
  }
 ],
 "metadata": {
  "kernelspec": {
   "display_name": "Python 3",
   "language": "python",
   "name": "python3"
  },
  "language_info": {
   "codemirror_mode": {
    "name": "ipython",
    "version": 3
   },
   "file_extension": ".py",
   "mimetype": "text/x-python",
   "name": "python",
   "nbconvert_exporter": "python",
   "pygments_lexer": "ipython3",
   "version": "3.5.2"
  }
 },
 "nbformat": 4,
 "nbformat_minor": 2
}
