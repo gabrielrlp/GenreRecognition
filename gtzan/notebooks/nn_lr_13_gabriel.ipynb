{
 "cells": [
  {
   "cell_type": "code",
   "execution_count": 1,
   "metadata": {},
   "outputs": [
    {
     "name": "stderr",
     "output_type": "stream",
     "text": [
      "Using TensorFlow backend.\n"
     ]
    }
   ],
   "source": [
    "from __future__ import print_function\n",
    "\n",
    "import os\n",
    "import numpy as np\n",
    "import pandas as pd\n",
    "import seaborn as sns\n",
    "\n",
    "from tqdm import *\n",
    "import matplotlib.pyplot as plt\n",
    "\n",
    "from sklearn.metrics import confusion_matrix\n",
    "from sklearn.metrics import classification_report\n",
    "from sklearn.linear_model import LogisticRegression\n",
    "from sklearn.model_selection import train_test_split\n",
    "\n",
    "from keras.models import Model\n",
    "from keras.utils import np_utils\n",
    "from keras.layers import Convolution2D, MaxPooling2D, BatchNormalization\n",
    "from keras.layers import Dense, Dropout, Activation, Flatten, Input\n",
    "from keras.regularizers import L1L2\n",
    "\n",
    "from keras.callbacks import ReduceLROnPlateau\n",
    "\n",
    "%matplotlib inline"
   ]
  },
  {
   "cell_type": "code",
   "execution_count": 2,
   "metadata": {},
   "outputs": [],
   "source": [
    "dataset_path = '../mfccs/13/'\n",
    "cls_list = ['blues',\n",
    "            'classical',\n",
    "            'country',\n",
    "            'disco',\n",
    "            'hiphop',\n",
    "            'jazz',\n",
    "            'metal',\n",
    "            'pop',\n",
    "            'reggae',\n",
    "            'rock']"
   ]
  },
  {
   "cell_type": "markdown",
   "metadata": {},
   "source": [
    "### Data loading and preparation"
   ]
  },
  {
   "cell_type": "code",
   "execution_count": 3,
   "metadata": {},
   "outputs": [
    {
     "name": "stderr",
     "output_type": "stream",
     "text": [
      "100%|██████████| 10/10 [00:06<00:00,  1.54it/s]\n"
     ]
    }
   ],
   "source": [
    "X = []\n",
    "y = []\n",
    "\n",
    "for cls in tqdm(os.listdir(dataset_path)):\n",
    "    cls_path = os.path.join(dataset_path, cls)\n",
    "    \n",
    "    for f in os.listdir(cls_path):\n",
    "        X.append(pd.read_csv(os.path.join(cls_path, f), delimiter=';', header=None).iloc[:, :-1])\n",
    "        y.append(cls_list.index(cls))"
   ]
  },
  {
   "cell_type": "code",
   "execution_count": 4,
   "metadata": {},
   "outputs": [
    {
     "data": {
      "text/plain": [
       "<matplotlib.axes._subplots.AxesSubplot at 0x7f5c5a7d9208>"
      ]
     },
     "execution_count": 4,
     "metadata": {},
     "output_type": "execute_result"
    },
    {
     "data": {
      "image/png": "[encoded data removed]",
      "text/plain": [
       "<Figure size 432x288 with 1 Axes>"
      ]
     },
     "metadata": {
      "needs_background": "light"
     },
     "output_type": "display_data"
    }
   ],
   "source": [
    "y_np = np.asarray(y)\n",
    "v, c = np.unique(y_np, return_counts=True)\n",
    "sns.barplot(v, c)"
   ]
  },
  {
   "cell_type": "markdown",
   "metadata": {},
   "source": [
    "#### MFCC simplification\n",
    "Each audio has 13 MFCCs per frame. We are simplifying it by computing the mean of the frames and using the resulting single vector of 13 MFCCs as the audio representation."
   ]
  },
  {
   "cell_type": "code",
   "execution_count": 5,
   "metadata": {},
   "outputs": [
    {
     "name": "stderr",
     "output_type": "stream",
     "text": [
      "1000it [00:01, 516.25it/s]\n"
     ]
    }
   ],
   "source": [
    "X_std = []\n",
    "\n",
    "for idx, i in tqdm(enumerate(X)):\n",
    "    a = np.mean(i, axis=0)\n",
    "    b = np.std(i, axis=0)\n",
    "    c = np.max(i, axis=0)\n",
    "    d = np.min(i, axis=0)\n",
    "    X_std.append(np.concatenate((a, b, c, d), axis=0))"
   ]
  },
  {
   "cell_type": "code",
   "execution_count": 6,
   "metadata": {},
   "outputs": [
    {
     "name": "stdout",
     "output_type": "stream",
     "text": [
      "(1000, 52) float64\n"
     ]
    }
   ],
   "source": [
    "X_std = np.asarray(X_std)\n",
    "print(X_std.shape, X_std.dtype)"
   ]
  },
  {
   "cell_type": "markdown",
   "metadata": {},
   "source": [
    "#### Train/Val split"
   ]
  },
  {
   "cell_type": "code",
   "execution_count": 7,
   "metadata": {},
   "outputs": [
    {
     "name": "stdout",
     "output_type": "stream",
     "text": [
      "(670, 52) (330, 52) (670,) (330,)\n"
     ]
    }
   ],
   "source": [
    "X_train, X_val, y_train, y_val = train_test_split(X_std, y_np, test_size=0.33, random_state=33, stratify=y_np)\n",
    "print(X_train.shape, X_val.shape, y_train.shape, y_val.shape)"
   ]
  },
  {
   "cell_type": "code",
   "execution_count": 8,
   "metadata": {},
   "outputs": [
    {
     "name": "stdout",
     "output_type": "stream",
     "text": [
      "(670, 10) (330, 10)\n"
     ]
    }
   ],
   "source": [
    "y_train = np_utils.to_categorical(y_train)\n",
    "y_val = np_utils.to_categorical(y_val)\n",
    "print(y_train.shape, y_val.shape)"
   ]
  },
  {
   "cell_type": "code",
   "execution_count": 9,
   "metadata": {},
   "outputs": [],
   "source": [
    "def create_model():\n",
    "    inp = Input(shape=(X_train.shape[1],))\n",
    "    x = Dense(128, kernel_regularizer=L1L2(l1=0.01, l2=0.01))(inp)\n",
    "    x = BatchNormalization()(x)\n",
    "    x = Activation('relu')(x)\n",
    "    x = Dropout(0.6)(x)\n",
    "    \n",
    "    x = Dense(128, kernel_regularizer=L1L2(l1=0.01, l2=0.01))(inp)\n",
    "    x = BatchNormalization()(x)\n",
    "    x = Activation('relu')(x)\n",
    "    x = Dropout(0.8)(x)\n",
    "\n",
    "    x = Dense(10)(x)\n",
    "    x = Activation('softmax')(x)\n",
    "\n",
    "    model = Model(inputs=inp, outputs=x)\n",
    "    model.compile(loss='categorical_crossentropy', metrics=['accuracy'], optimizer='adam')\n",
    "    return model"
   ]
  },
  {
   "cell_type": "code",
   "execution_count": 10,
   "metadata": {},
   "outputs": [
    {
     "name": "stdout",
     "output_type": "stream",
     "text": [
      "_________________________________________________________________\n",
      "Layer (type)                 Output Shape              Param #   \n",
      "=================================================================\n",
      "input_1 (InputLayer)         (None, 52)                0         \n",
      "_________________________________________________________________\n",
      "dense_2 (Dense)              (None, 128)               6784      \n",
      "_________________________________________________________________\n",
      "batch_normalization_2 (Batch (None, 128)               512       \n",
      "_________________________________________________________________\n",
      "activation_2 (Activation)    (None, 128)               0         \n",
      "_________________________________________________________________\n",
      "dropout_2 (Dropout)          (None, 128)               0         \n",
      "_________________________________________________________________\n",
      "dense_3 (Dense)              (None, 10)                1290      \n",
      "_________________________________________________________________\n",
      "activation_3 (Activation)    (None, 10)                0         \n",
      "=================================================================\n",
      "Total params: 8,586.0\n",
      "Trainable params: 8,330.0\n",
      "Non-trainable params: 256.0\n",
      "_________________________________________________________________\n"
     ]
    }
   ],
   "source": [
    "model = create_model()\n",
    "model.summary()"
   ]
  },
  {
   "cell_type": "markdown",
   "metadata": {},
   "source": [
    "#### Normalization"
   ]
  },
  {
   "cell_type": "code",
   "execution_count": 11,
   "metadata": {},
   "outputs": [
    {
     "name": "stdout",
     "output_type": "stream",
     "text": [
      "Means: [-650.6297977   133.04630026   -6.57415915   34.46168699   -3.30174185\n",
      "   12.07065647   -7.9906482    10.0232402    -8.30882395    7.52375389\n",
      "   -6.85239181    4.18318983   -5.18664802   66.4891696    32.7371354\n",
      "   28.25917492   19.27443766   16.67788105   14.86727789   14.26556059\n",
      "   12.24875379   11.81604153   11.25382926   10.54845912   10.16897423\n",
      "    9.94115452 -493.9756      217.54783134   79.17269577   92.97294896\n",
      "   45.95522798   56.12917075   37.42352725   50.05339124   29.39388039\n",
      "   45.09759522   28.51853882   38.41789504   28.65686412 -876.86428955\n",
      "   15.31389407  -86.54747836  -27.15129569  -57.72754537  -37.53052442\n",
      "  -53.60807119  -30.10859231  -47.66766194  -29.23773396  -41.68957149\n",
      "  -29.58160331  -38.14924746]\n",
      "Stds: [101.02985116  36.1597846   24.5315318   20.24361409  12.1117232\n",
      "  13.29301     10.08719245  10.236978     7.8850999    7.24217957\n",
      "   6.96274209   5.67676019   5.68651412  22.05998519   9.54818898\n",
      "   7.92716518   4.88187836   4.34301866   3.7524263    3.2904475\n",
      "   2.56569317   2.33576789   2.26970691   2.1433939    2.10951547\n",
      "   2.20681975  88.30444113  36.71933281  35.34362447  24.72764556\n",
      "  18.25921637  15.29563406  16.27127642  13.81487706  12.13083575\n",
      "  10.85851788  11.14825377   9.2232551   11.37641607 120.77572485\n",
      "  51.09643577  26.97925818  25.93213995  17.64528363  20.65513194\n",
      "  15.13971007  14.41557798  11.37548108  11.31910441   9.96408887\n",
      "  10.10956587   8.68273435]\n"
     ]
    }
   ],
   "source": [
    "X_train_means = X_train.mean(axis=0)\n",
    "X_train_stds = X_train.std(axis=0)\n",
    "\n",
    "print('Means:', X_train_means)\n",
    "print('Stds:', X_train_stds)"
   ]
  },
  {
   "cell_type": "code",
   "execution_count": 12,
   "metadata": {},
   "outputs": [
    {
     "name": "stdout",
     "output_type": "stream",
     "text": [
      "Means: [-3.91063633e-15  3.09304821e-15 -1.77469979e-16  1.09680093e-15\n",
      " -1.65870634e-16 -7.98987742e-16  7.04908768e-16  9.56780260e-16\n",
      " -2.13179391e-16  1.39988560e-15  1.17683641e-15  8.07811529e-17\n",
      " -2.43669098e-16  1.79955553e-15  6.61162667e-16  2.56544371e-15\n",
      " -3.22329228e-15 -5.60911185e-16 -8.38466941e-16  3.94543436e-15\n",
      "  2.92568623e-15  2.24695884e-16 -6.45752109e-15  1.33922724e-15\n",
      "  3.93582347e-15 -4.44851453e-15  3.67920868e-15 -6.21062074e-16\n",
      "  2.13759358e-16 -7.43518017e-16  1.55961479e-15  4.15720526e-15\n",
      " -1.74661280e-15  4.03955476e-15  2.70297880e-15  7.23799130e-16\n",
      "  1.67150705e-15  4.92375626e-15 -1.96078643e-15 -1.72333126e-17\n",
      "  2.25855818e-16 -7.63444034e-16 -4.32986980e-16 -2.55765558e-15\n",
      "  1.10028073e-16 -1.63451342e-15  1.31304586e-15  3.19843654e-15\n",
      "  1.60468653e-15  3.37242672e-15 -3.80698789e-15  1.62302800e-15]\n",
      "Std: [1. 1. 1. 1. 1. 1. 1. 1. 1. 1. 1. 1. 1. 1. 1. 1. 1. 1. 1. 1. 1. 1. 1. 1.\n",
      " 1. 1. 1. 1. 1. 1. 1. 1. 1. 1. 1. 1. 1. 1. 1. 1. 1. 1. 1. 1. 1. 1. 1. 1.\n",
      " 1. 1. 1. 1.]\n"
     ]
    }
   ],
   "source": [
    "X_train -= X_train_means\n",
    "X_train /= X_train_stds\n",
    "\n",
    "print('Means:', X_train.mean(axis=0))\n",
    "print('Std:', X_train.std(axis=0))"
   ]
  },
  {
   "cell_type": "code",
   "execution_count": 13,
   "metadata": {},
   "outputs": [],
   "source": [
    "X_val -= X_train_means\n",
    "X_val /= X_train_stds"
   ]
  },
  {
   "cell_type": "code",
   "execution_count": 14,
   "metadata": {},
   "outputs": [],
   "source": [
    "reduce_lr = ReduceLROnPlateau(monitor='val_loss', factor=0.1,\n",
    "                              patience=20, min_lr=0.00001)"
   ]
  },
  {
   "cell_type": "code",
   "execution_count": 15,
   "metadata": {},
   "outputs": [
    {
     "name": "stdout",
     "output_type": "stream",
     "text": [
      "Train on 670 samples, validate on 330 samples\n",
      "Epoch 1/300\n",
      "670/670 [==============================] - 1s - loss: 10.1702 - acc: 0.1373 - val_loss: 8.5948 - val_acc: 0.2515\n",
      "Epoch 2/300\n",
      "670/670 [==============================] - 0s - loss: 9.2236 - acc: 0.2149 - val_loss: 7.9649 - val_acc: 0.3424\n",
      "Epoch 3/300\n",
      "670/670 [==============================] - 0s - loss: 8.4953 - acc: 0.2582 - val_loss: 7.4308 - val_acc: 0.3727\n",
      "Epoch 4/300\n",
      "670/670 [==============================] - 0s - loss: 7.9898 - acc: 0.2448 - val_loss: 6.9508 - val_acc: 0.3970\n",
      "Epoch 5/300\n",
      "670/670 [==============================] - 0s - loss: 7.3003 - acc: 0.3194 - val_loss: 6.5105 - val_acc: 0.4182\n",
      "Epoch 6/300\n",
      "670/670 [==============================] - 0s - loss: 6.8656 - acc: 0.3433 - val_loss: 6.0979 - val_acc: 0.4606\n",
      "Epoch 7/300\n",
      "670/670 [==============================] - 0s - loss: 6.4212 - acc: 0.3687 - val_loss: 5.7200 - val_acc: 0.4879\n",
      "Epoch 8/300\n",
      "670/670 [==============================] - 0s - loss: 5.9583 - acc: 0.3910 - val_loss: 5.3651 - val_acc: 0.5152\n",
      "Epoch 9/300\n",
      "670/670 [==============================] - 0s - loss: 5.6417 - acc: 0.4075 - val_loss: 5.0283 - val_acc: 0.5394\n",
      "Epoch 10/300\n",
      "670/670 [==============================] - 0s - loss: 5.2495 - acc: 0.3985 - val_loss: 4.7217 - val_acc: 0.5606\n",
      "Epoch 11/300\n",
      "670/670 [==============================] - 0s - loss: 4.8354 - acc: 0.4657 - val_loss: 4.4282 - val_acc: 0.5636\n",
      "Epoch 12/300\n",
      "670/670 [==============================] - 0s - loss: 4.5383 - acc: 0.4567 - val_loss: 4.1605 - val_acc: 0.5848\n",
      "Epoch 13/300\n",
      "670/670 [==============================] - 0s - loss: 4.2691 - acc: 0.4776 - val_loss: 3.9041 - val_acc: 0.5970\n",
      "Epoch 14/300\n",
      "670/670 [==============================] - 0s - loss: 3.9572 - acc: 0.4746 - val_loss: 3.6749 - val_acc: 0.6152\n",
      "Epoch 15/300\n",
      "670/670 [==============================] - 0s - loss: 3.7965 - acc: 0.4776 - val_loss: 3.4648 - val_acc: 0.6121\n",
      "Epoch 16/300\n",
      "670/670 [==============================] - 0s - loss: 3.5731 - acc: 0.5015 - val_loss: 3.2805 - val_acc: 0.6364\n",
      "Epoch 17/300\n",
      "670/670 [==============================] - 0s - loss: 3.3866 - acc: 0.5164 - val_loss: 3.1078 - val_acc: 0.6515\n",
      "Epoch 18/300\n",
      "670/670 [==============================] - 0s - loss: 3.2069 - acc: 0.4836 - val_loss: 2.9565 - val_acc: 0.6576\n",
      "Epoch 19/300\n",
      "670/670 [==============================] - 0s - loss: 3.0159 - acc: 0.5000 - val_loss: 2.8083 - val_acc: 0.6485\n",
      "Epoch 20/300\n",
      "670/670 [==============================] - 0s - loss: 2.8197 - acc: 0.4985 - val_loss: 2.6876 - val_acc: 0.6576\n",
      "Epoch 21/300\n",
      "670/670 [==============================] - 0s - loss: 2.7037 - acc: 0.5149 - val_loss: 2.5868 - val_acc: 0.6606\n",
      "Epoch 22/300\n",
      "670/670 [==============================] - 0s - loss: 2.5509 - acc: 0.5299 - val_loss: 2.4591 - val_acc: 0.6606\n",
      "Epoch 23/300\n",
      "670/670 [==============================] - 0s - loss: 2.4394 - acc: 0.5507 - val_loss: 2.3435 - val_acc: 0.6667\n",
      "Epoch 24/300\n",
      "670/670 [==============================] - 0s - loss: 2.3674 - acc: 0.5164 - val_loss: 2.2451 - val_acc: 0.6545\n",
      "Epoch 25/300\n",
      "670/670 [==============================] - 0s - loss: 2.2429 - acc: 0.5567 - val_loss: 2.1702 - val_acc: 0.6758\n",
      "Epoch 26/300\n",
      "670/670 [==============================] - 0s - loss: 2.2364 - acc: 0.5463 - val_loss: 2.1183 - val_acc: 0.6667\n",
      "Epoch 27/300\n",
      "670/670 [==============================] - 0s - loss: 2.1110 - acc: 0.5567 - val_loss: 2.0627 - val_acc: 0.6727\n",
      "Epoch 28/300\n",
      "670/670 [==============================] - 0s - loss: 2.0978 - acc: 0.5582 - val_loss: 2.0261 - val_acc: 0.6485\n",
      "Epoch 29/300\n",
      "670/670 [==============================] - 0s - loss: 2.1153 - acc: 0.5254 - val_loss: 1.9596 - val_acc: 0.6788\n",
      "Epoch 30/300\n",
      "670/670 [==============================] - 0s - loss: 2.0351 - acc: 0.5612 - val_loss: 1.9157 - val_acc: 0.6576\n",
      "Epoch 31/300\n",
      "670/670 [==============================] - 0s - loss: 1.9855 - acc: 0.5478 - val_loss: 1.8796 - val_acc: 0.6394\n",
      "Epoch 32/300\n",
      "670/670 [==============================] - 0s - loss: 1.9253 - acc: 0.5597 - val_loss: 1.8419 - val_acc: 0.6697\n",
      "Epoch 33/300\n",
      "670/670 [==============================] - 0s - loss: 1.9944 - acc: 0.5224 - val_loss: 1.8241 - val_acc: 0.6545\n",
      "Epoch 34/300\n",
      "670/670 [==============================] - 0s - loss: 1.9345 - acc: 0.5313 - val_loss: 1.7955 - val_acc: 0.6727\n",
      "Epoch 35/300\n",
      "670/670 [==============================] - 0s - loss: 1.9054 - acc: 0.5493 - val_loss: 1.7802 - val_acc: 0.6242\n",
      "Epoch 36/300\n",
      "670/670 [==============================] - 0s - loss: 1.8356 - acc: 0.5612 - val_loss: 1.7612 - val_acc: 0.6303\n",
      "Epoch 37/300\n",
      "670/670 [==============================] - 0s - loss: 1.8921 - acc: 0.5418 - val_loss: 1.7534 - val_acc: 0.6273\n",
      "Epoch 38/300\n",
      "670/670 [==============================] - 0s - loss: 1.8387 - acc: 0.5433 - val_loss: 1.7123 - val_acc: 0.6333\n",
      "Epoch 39/300\n",
      "670/670 [==============================] - 0s - loss: 1.8118 - acc: 0.5687 - val_loss: 1.6626 - val_acc: 0.6636\n",
      "Epoch 40/300\n",
      "670/670 [==============================] - 0s - loss: 1.7943 - acc: 0.5567 - val_loss: 1.6842 - val_acc: 0.6424\n",
      "Epoch 41/300\n",
      "670/670 [==============================] - 0s - loss: 1.7627 - acc: 0.5746 - val_loss: 1.6442 - val_acc: 0.6758\n",
      "Epoch 42/300\n",
      "670/670 [==============================] - 0s - loss: 1.8398 - acc: 0.5313 - val_loss: 1.6488 - val_acc: 0.6758\n",
      "Epoch 43/300\n",
      "670/670 [==============================] - 0s - loss: 1.7839 - acc: 0.5552 - val_loss: 1.6587 - val_acc: 0.6424\n",
      "Epoch 44/300\n",
      "670/670 [==============================] - 0s - loss: 1.7557 - acc: 0.5642 - val_loss: 1.6143 - val_acc: 0.6636\n",
      "Epoch 45/300\n",
      "670/670 [==============================] - 0s - loss: 1.7957 - acc: 0.5433 - val_loss: 1.5940 - val_acc: 0.6667\n",
      "Epoch 46/300\n",
      "670/670 [==============================] - 0s - loss: 1.7961 - acc: 0.5552 - val_loss: 1.6284 - val_acc: 0.6606\n",
      "Epoch 47/300\n",
      "670/670 [==============================] - 0s - loss: 1.7803 - acc: 0.5612 - val_loss: 1.5880 - val_acc: 0.6970\n",
      "Epoch 48/300\n",
      "670/670 [==============================] - 0s - loss: 1.7341 - acc: 0.5806 - val_loss: 1.5982 - val_acc: 0.6758\n",
      "Epoch 49/300\n",
      "670/670 [==============================] - 0s - loss: 1.7585 - acc: 0.5537 - val_loss: 1.5848 - val_acc: 0.6545\n",
      "Epoch 50/300\n",
      "670/670 [==============================] - 0s - loss: 1.7252 - acc: 0.5597 - val_loss: 1.5906 - val_acc: 0.6818\n",
      "Epoch 51/300\n",
      "670/670 [==============================] - 0s - loss: 1.7542 - acc: 0.5537 - val_loss: 1.5643 - val_acc: 0.6848\n",
      "Epoch 52/300\n",
      "670/670 [==============================] - 0s - loss: 1.7110 - acc: 0.5791 - val_loss: 1.5733 - val_acc: 0.6545\n",
      "Epoch 53/300\n",
      "670/670 [==============================] - 0s - loss: 1.7836 - acc: 0.5448 - val_loss: 1.5898 - val_acc: 0.6606\n",
      "Epoch 54/300\n",
      "670/670 [==============================] - 0s - loss: 1.7602 - acc: 0.5388 - val_loss: 1.5792 - val_acc: 0.6697\n",
      "Epoch 55/300\n",
      "670/670 [==============================] - 0s - loss: 1.7206 - acc: 0.5507 - val_loss: 1.5786 - val_acc: 0.6727\n",
      "Epoch 56/300\n",
      "670/670 [==============================] - 0s - loss: 1.7220 - acc: 0.5582 - val_loss: 1.5757 - val_acc: 0.6788\n",
      "Epoch 57/300\n",
      "670/670 [==============================] - 0s - loss: 1.7332 - acc: 0.5761 - val_loss: 1.5587 - val_acc: 0.6727\n",
      "Epoch 58/300\n",
      "670/670 [==============================] - 0s - loss: 1.6499 - acc: 0.5940 - val_loss: 1.5597 - val_acc: 0.6788\n",
      "Epoch 59/300\n",
      "670/670 [==============================] - 0s - loss: 1.6948 - acc: 0.5776 - val_loss: 1.5922 - val_acc: 0.6667\n",
      "Epoch 60/300\n",
      "670/670 [==============================] - 0s - loss: 1.7069 - acc: 0.5791 - val_loss: 1.5604 - val_acc: 0.6606\n",
      "Epoch 61/300\n",
      "670/670 [==============================] - 0s - loss: 1.6967 - acc: 0.5537 - val_loss: 1.5598 - val_acc: 0.6606\n",
      "Epoch 62/300\n",
      "670/670 [==============================] - 0s - loss: 1.6424 - acc: 0.5687 - val_loss: 1.5401 - val_acc: 0.6758\n",
      "Epoch 63/300\n",
      "670/670 [==============================] - 0s - loss: 1.7260 - acc: 0.5418 - val_loss: 1.5433 - val_acc: 0.6606\n",
      "Epoch 64/300\n",
      "670/670 [==============================] - 0s - loss: 1.7366 - acc: 0.5567 - val_loss: 1.5576 - val_acc: 0.6606\n",
      "Epoch 65/300\n",
      "670/670 [==============================] - 0s - loss: 1.6826 - acc: 0.5731 - val_loss: 1.5271 - val_acc: 0.6667\n",
      "Epoch 66/300\n"
     ]
    },
    {
     "name": "stdout",
     "output_type": "stream",
     "text": [
      "670/670 [==============================] - 0s - loss: 1.6842 - acc: 0.5672 - val_loss: 1.5278 - val_acc: 0.6727\n",
      "Epoch 67/300\n",
      "670/670 [==============================] - 0s - loss: 1.7373 - acc: 0.5597 - val_loss: 1.5515 - val_acc: 0.6697\n",
      "Epoch 68/300\n",
      "670/670 [==============================] - 0s - loss: 1.6956 - acc: 0.5597 - val_loss: 1.5494 - val_acc: 0.6667\n",
      "Epoch 69/300\n",
      "670/670 [==============================] - 0s - loss: 1.7293 - acc: 0.5552 - val_loss: 1.5425 - val_acc: 0.6697\n",
      "Epoch 70/300\n",
      "670/670 [==============================] - 0s - loss: 1.6532 - acc: 0.5970 - val_loss: 1.5681 - val_acc: 0.6758\n",
      "Epoch 71/300\n",
      "670/670 [==============================] - 0s - loss: 1.6532 - acc: 0.6090 - val_loss: 1.5524 - val_acc: 0.6545\n",
      "Epoch 72/300\n",
      "670/670 [==============================] - 0s - loss: 1.6161 - acc: 0.5910 - val_loss: 1.5240 - val_acc: 0.6545\n",
      "Epoch 73/300\n",
      "670/670 [==============================] - 0s - loss: 1.6418 - acc: 0.5896 - val_loss: 1.5220 - val_acc: 0.6515\n",
      "Epoch 74/300\n",
      "670/670 [==============================] - 0s - loss: 1.6207 - acc: 0.5985 - val_loss: 1.5404 - val_acc: 0.6545\n",
      "Epoch 75/300\n",
      "670/670 [==============================] - 0s - loss: 1.6918 - acc: 0.5746 - val_loss: 1.5206 - val_acc: 0.6697\n",
      "Epoch 76/300\n",
      "670/670 [==============================] - 0s - loss: 1.6479 - acc: 0.5851 - val_loss: 1.5116 - val_acc: 0.6848\n",
      "Epoch 77/300\n",
      "670/670 [==============================] - 0s - loss: 1.6308 - acc: 0.5806 - val_loss: 1.5087 - val_acc: 0.6606\n",
      "Epoch 78/300\n",
      "670/670 [==============================] - 0s - loss: 1.6163 - acc: 0.6179 - val_loss: 1.4958 - val_acc: 0.6697\n",
      "Epoch 79/300\n",
      "670/670 [==============================] - 0s - loss: 1.6697 - acc: 0.5597 - val_loss: 1.5177 - val_acc: 0.6879\n",
      "Epoch 80/300\n",
      "670/670 [==============================] - 0s - loss: 1.7106 - acc: 0.5478 - val_loss: 1.5262 - val_acc: 0.6758\n",
      "Epoch 81/300\n",
      "670/670 [==============================] - 0s - loss: 1.6757 - acc: 0.5731 - val_loss: 1.5438 - val_acc: 0.6515\n",
      "Epoch 82/300\n",
      "670/670 [==============================] - 0s - loss: 1.7284 - acc: 0.5537 - val_loss: 1.5344 - val_acc: 0.6697\n",
      "Epoch 83/300\n",
      "670/670 [==============================] - 0s - loss: 1.6782 - acc: 0.5970 - val_loss: 1.5229 - val_acc: 0.6606\n",
      "Epoch 84/300\n",
      "670/670 [==============================] - 0s - loss: 1.6917 - acc: 0.5463 - val_loss: 1.5181 - val_acc: 0.6848\n",
      "Epoch 85/300\n",
      "670/670 [==============================] - 0s - loss: 1.6427 - acc: 0.5955 - val_loss: 1.5116 - val_acc: 0.6818\n",
      "Epoch 86/300\n",
      "670/670 [==============================] - 0s - loss: 1.6676 - acc: 0.5507 - val_loss: 1.5363 - val_acc: 0.6576\n",
      "Epoch 87/300\n",
      "670/670 [==============================] - 0s - loss: 1.6962 - acc: 0.5672 - val_loss: 1.5249 - val_acc: 0.6515\n",
      "Epoch 88/300\n",
      "670/670 [==============================] - 0s - loss: 1.6401 - acc: 0.5776 - val_loss: 1.5018 - val_acc: 0.6788\n",
      "Epoch 89/300\n",
      "670/670 [==============================] - 0s - loss: 1.6250 - acc: 0.6030 - val_loss: 1.5033 - val_acc: 0.6758\n",
      "Epoch 90/300\n",
      "670/670 [==============================] - 0s - loss: 1.6052 - acc: 0.6000 - val_loss: 1.5177 - val_acc: 0.6848\n",
      "Epoch 91/300\n",
      "670/670 [==============================] - 0s - loss: 1.6040 - acc: 0.6000 - val_loss: 1.4993 - val_acc: 0.6697\n",
      "Epoch 92/300\n",
      "670/670 [==============================] - 0s - loss: 1.6338 - acc: 0.5925 - val_loss: 1.5012 - val_acc: 0.6788\n",
      "Epoch 93/300\n",
      "670/670 [==============================] - 0s - loss: 1.6463 - acc: 0.5866 - val_loss: 1.4894 - val_acc: 0.6909\n",
      "Epoch 94/300\n",
      "670/670 [==============================] - 0s - loss: 1.6384 - acc: 0.5776 - val_loss: 1.4957 - val_acc: 0.6606\n",
      "Epoch 95/300\n",
      "670/670 [==============================] - 0s - loss: 1.6414 - acc: 0.5791 - val_loss: 1.4791 - val_acc: 0.6818\n",
      "Epoch 96/300\n",
      "670/670 [==============================] - 0s - loss: 1.6623 - acc: 0.5761 - val_loss: 1.4905 - val_acc: 0.6697\n",
      "Epoch 97/300\n",
      "670/670 [==============================] - 0s - loss: 1.6339 - acc: 0.5955 - val_loss: 1.4997 - val_acc: 0.6545\n",
      "Epoch 98/300\n",
      "670/670 [==============================] - 0s - loss: 1.6544 - acc: 0.5866 - val_loss: 1.5038 - val_acc: 0.6788\n",
      "Epoch 99/300\n",
      "670/670 [==============================] - 0s - loss: 1.6629 - acc: 0.5851 - val_loss: 1.5182 - val_acc: 0.6424\n",
      "Epoch 100/300\n",
      "670/670 [==============================] - 0s - loss: 1.6515 - acc: 0.5866 - val_loss: 1.5083 - val_acc: 0.6636\n",
      "Epoch 101/300\n",
      "670/670 [==============================] - 0s - loss: 1.5948 - acc: 0.6209 - val_loss: 1.5083 - val_acc: 0.6667\n",
      "Epoch 102/300\n",
      "670/670 [==============================] - 0s - loss: 1.6114 - acc: 0.6060 - val_loss: 1.5282 - val_acc: 0.6424\n",
      "Epoch 103/300\n",
      "670/670 [==============================] - 0s - loss: 1.6123 - acc: 0.5776 - val_loss: 1.5036 - val_acc: 0.6636\n",
      "Epoch 104/300\n",
      "670/670 [==============================] - 0s - loss: 1.6282 - acc: 0.5716 - val_loss: 1.5186 - val_acc: 0.6667\n",
      "Epoch 105/300\n",
      "670/670 [==============================] - 0s - loss: 1.6296 - acc: 0.5940 - val_loss: 1.5477 - val_acc: 0.6394\n",
      "Epoch 106/300\n",
      "670/670 [==============================] - 0s - loss: 1.6256 - acc: 0.5851 - val_loss: 1.5006 - val_acc: 0.6788\n",
      "Epoch 107/300\n",
      "670/670 [==============================] - 0s - loss: 1.6313 - acc: 0.5851 - val_loss: 1.4965 - val_acc: 0.6788\n",
      "Epoch 108/300\n",
      "670/670 [==============================] - 0s - loss: 1.6296 - acc: 0.5776 - val_loss: 1.5033 - val_acc: 0.6576\n",
      "Epoch 109/300\n",
      "670/670 [==============================] - 0s - loss: 1.6490 - acc: 0.5716 - val_loss: 1.5232 - val_acc: 0.6515\n",
      "Epoch 110/300\n",
      "670/670 [==============================] - 0s - loss: 1.6561 - acc: 0.5955 - val_loss: 1.5174 - val_acc: 0.6697\n",
      "Epoch 111/300\n",
      "670/670 [==============================] - 0s - loss: 1.6583 - acc: 0.5746 - val_loss: 1.5091 - val_acc: 0.6788\n",
      "Epoch 112/300\n",
      "670/670 [==============================] - 0s - loss: 1.6085 - acc: 0.5776 - val_loss: 1.4840 - val_acc: 0.6788\n",
      "Epoch 113/300\n",
      "670/670 [==============================] - 0s - loss: 1.6499 - acc: 0.5761 - val_loss: 1.4979 - val_acc: 0.6636\n",
      "Epoch 114/300\n",
      "670/670 [==============================] - 0s - loss: 1.6344 - acc: 0.5851 - val_loss: 1.4949 - val_acc: 0.6697\n",
      "Epoch 115/300\n",
      "670/670 [==============================] - 0s - loss: 1.6530 - acc: 0.5716 - val_loss: 1.5063 - val_acc: 0.6636\n",
      "Epoch 116/300\n",
      "670/670 [==============================] - 0s - loss: 1.5870 - acc: 0.6194 - val_loss: 1.5062 - val_acc: 0.6788\n",
      "Epoch 117/300\n",
      "670/670 [==============================] - 0s - loss: 1.6584 - acc: 0.5761 - val_loss: 1.4906 - val_acc: 0.6818\n",
      "Epoch 118/300\n",
      "670/670 [==============================] - 0s - loss: 1.5579 - acc: 0.6179 - val_loss: 1.4751 - val_acc: 0.6848\n",
      "Epoch 119/300\n",
      "670/670 [==============================] - 0s - loss: 1.5225 - acc: 0.6313 - val_loss: 1.4619 - val_acc: 0.6939\n",
      "Epoch 120/300\n",
      "670/670 [==============================] - 0s - loss: 1.4769 - acc: 0.6254 - val_loss: 1.4492 - val_acc: 0.6879\n",
      "Epoch 121/300\n",
      "670/670 [==============================] - 0s - loss: 1.5250 - acc: 0.6179 - val_loss: 1.4365 - val_acc: 0.6909\n",
      "Epoch 122/300\n",
      "670/670 [==============================] - 0s - loss: 1.4680 - acc: 0.6493 - val_loss: 1.4276 - val_acc: 0.6848\n",
      "Epoch 123/300\n",
      "670/670 [==============================] - 0s - loss: 1.4441 - acc: 0.6612 - val_loss: 1.4179 - val_acc: 0.6909\n",
      "Epoch 124/300\n",
      "670/670 [==============================] - 0s - loss: 1.4106 - acc: 0.6642 - val_loss: 1.4084 - val_acc: 0.6879\n",
      "Epoch 125/300\n",
      "670/670 [==============================] - 0s - loss: 1.3692 - acc: 0.6776 - val_loss: 1.3985 - val_acc: 0.6909\n",
      "Epoch 126/300\n",
      "670/670 [==============================] - 0s - loss: 1.3434 - acc: 0.6746 - val_loss: 1.3917 - val_acc: 0.6909\n",
      "Epoch 127/300\n",
      "670/670 [==============================] - 0s - loss: 1.3921 - acc: 0.6448 - val_loss: 1.3851 - val_acc: 0.6879\n",
      "Epoch 128/300\n",
      "670/670 [==============================] - 0s - loss: 1.3921 - acc: 0.6537 - val_loss: 1.3800 - val_acc: 0.6939\n",
      "Epoch 129/300\n",
      "670/670 [==============================] - 0s - loss: 1.3521 - acc: 0.6657 - val_loss: 1.3729 - val_acc: 0.6909\n",
      "Epoch 130/300\n",
      "670/670 [==============================] - 0s - loss: 1.2913 - acc: 0.6925 - val_loss: 1.3689 - val_acc: 0.6879\n",
      "Epoch 131/300\n"
     ]
    },
    {
     "name": "stdout",
     "output_type": "stream",
     "text": [
      "670/670 [==============================] - 0s - loss: 1.3433 - acc: 0.6657 - val_loss: 1.3658 - val_acc: 0.6879\n",
      "Epoch 132/300\n",
      "670/670 [==============================] - 0s - loss: 1.3127 - acc: 0.6925 - val_loss: 1.3661 - val_acc: 0.6879\n",
      "Epoch 133/300\n",
      "670/670 [==============================] - 0s - loss: 1.3407 - acc: 0.6567 - val_loss: 1.3597 - val_acc: 0.6879\n",
      "Epoch 134/300\n",
      "670/670 [==============================] - 0s - loss: 1.2801 - acc: 0.6896 - val_loss: 1.3520 - val_acc: 0.6879\n",
      "Epoch 135/300\n",
      "670/670 [==============================] - 0s - loss: 1.3020 - acc: 0.6791 - val_loss: 1.3478 - val_acc: 0.6848\n",
      "Epoch 136/300\n",
      "670/670 [==============================] - 0s - loss: 1.2583 - acc: 0.6970 - val_loss: 1.3388 - val_acc: 0.6909\n",
      "Epoch 137/300\n",
      "670/670 [==============================] - 0s - loss: 1.3095 - acc: 0.6687 - val_loss: 1.3358 - val_acc: 0.6909\n",
      "Epoch 138/300\n",
      "670/670 [==============================] - 0s - loss: 1.3093 - acc: 0.6642 - val_loss: 1.3296 - val_acc: 0.6939\n",
      "Epoch 139/300\n",
      "670/670 [==============================] - 0s - loss: 1.2695 - acc: 0.6940 - val_loss: 1.3270 - val_acc: 0.6818\n",
      "Epoch 140/300\n",
      "670/670 [==============================] - 0s - loss: 1.2916 - acc: 0.6672 - val_loss: 1.3230 - val_acc: 0.6758\n",
      "Epoch 141/300\n",
      "670/670 [==============================] - 0s - loss: 1.2810 - acc: 0.6746 - val_loss: 1.3218 - val_acc: 0.6818\n",
      "Epoch 142/300\n",
      "670/670 [==============================] - 0s - loss: 1.2837 - acc: 0.6791 - val_loss: 1.3205 - val_acc: 0.6758\n",
      "Epoch 143/300\n",
      "670/670 [==============================] - 0s - loss: 1.2307 - acc: 0.6910 - val_loss: 1.3157 - val_acc: 0.6788\n",
      "Epoch 144/300\n",
      "670/670 [==============================] - 0s - loss: 1.2637 - acc: 0.6567 - val_loss: 1.3066 - val_acc: 0.6848\n",
      "Epoch 145/300\n",
      "670/670 [==============================] - 0s - loss: 1.2531 - acc: 0.7030 - val_loss: 1.3012 - val_acc: 0.6818\n",
      "Epoch 146/300\n",
      "670/670 [==============================] - 0s - loss: 1.2627 - acc: 0.6716 - val_loss: 1.3028 - val_acc: 0.6848\n",
      "Epoch 147/300\n",
      "670/670 [==============================] - 0s - loss: 1.2531 - acc: 0.6866 - val_loss: 1.3085 - val_acc: 0.6818\n",
      "Epoch 148/300\n",
      "670/670 [==============================] - 0s - loss: 1.2352 - acc: 0.6657 - val_loss: 1.3006 - val_acc: 0.6879\n",
      "Epoch 149/300\n",
      "670/670 [==============================] - 0s - loss: 1.2524 - acc: 0.6776 - val_loss: 1.2997 - val_acc: 0.6879\n",
      "Epoch 150/300\n",
      "670/670 [==============================] - 0s - loss: 1.2419 - acc: 0.6791 - val_loss: 1.2954 - val_acc: 0.6909\n",
      "Epoch 151/300\n",
      "670/670 [==============================] - 0s - loss: 1.1707 - acc: 0.6955 - val_loss: 1.2929 - val_acc: 0.6758\n",
      "Epoch 152/300\n",
      "670/670 [==============================] - 0s - loss: 1.2141 - acc: 0.7030 - val_loss: 1.2889 - val_acc: 0.6788\n",
      "Epoch 153/300\n",
      "670/670 [==============================] - 0s - loss: 1.2342 - acc: 0.6791 - val_loss: 1.2871 - val_acc: 0.6727\n",
      "Epoch 154/300\n",
      "670/670 [==============================] - 0s - loss: 1.2105 - acc: 0.6836 - val_loss: 1.2847 - val_acc: 0.6788\n",
      "Epoch 155/300\n",
      "670/670 [==============================] - 0s - loss: 1.1699 - acc: 0.7045 - val_loss: 1.2850 - val_acc: 0.6758\n",
      "Epoch 156/300\n",
      "670/670 [==============================] - 0s - loss: 1.2548 - acc: 0.6627 - val_loss: 1.2780 - val_acc: 0.6758\n",
      "Epoch 157/300\n",
      "670/670 [==============================] - 0s - loss: 1.2259 - acc: 0.6746 - val_loss: 1.2735 - val_acc: 0.6758\n",
      "Epoch 158/300\n",
      "670/670 [==============================] - 0s - loss: 1.1977 - acc: 0.6836 - val_loss: 1.2695 - val_acc: 0.6879\n",
      "Epoch 159/300\n",
      "670/670 [==============================] - 0s - loss: 1.1417 - acc: 0.7194 - val_loss: 1.2730 - val_acc: 0.6909\n",
      "Epoch 160/300\n",
      "670/670 [==============================] - 0s - loss: 1.2059 - acc: 0.6910 - val_loss: 1.2710 - val_acc: 0.7000\n",
      "Epoch 161/300\n",
      "670/670 [==============================] - 0s - loss: 1.2168 - acc: 0.7015 - val_loss: 1.2726 - val_acc: 0.6818\n",
      "Epoch 162/300\n",
      "670/670 [==============================] - 0s - loss: 1.1979 - acc: 0.7134 - val_loss: 1.2670 - val_acc: 0.6848\n",
      "Epoch 163/300\n",
      "670/670 [==============================] - 0s - loss: 1.1817 - acc: 0.6985 - val_loss: 1.2652 - val_acc: 0.6818\n",
      "Epoch 164/300\n",
      "670/670 [==============================] - 0s - loss: 1.1834 - acc: 0.6970 - val_loss: 1.2637 - val_acc: 0.7000\n",
      "Epoch 165/300\n",
      "670/670 [==============================] - 0s - loss: 1.1894 - acc: 0.6731 - val_loss: 1.2629 - val_acc: 0.6970\n",
      "Epoch 166/300\n",
      "670/670 [==============================] - 0s - loss: 1.2132 - acc: 0.6881 - val_loss: 1.2551 - val_acc: 0.6939\n",
      "Epoch 167/300\n",
      "670/670 [==============================] - 0s - loss: 1.1652 - acc: 0.6836 - val_loss: 1.2536 - val_acc: 0.6970\n",
      "Epoch 168/300\n",
      "670/670 [==============================] - 0s - loss: 1.2051 - acc: 0.6985 - val_loss: 1.2493 - val_acc: 0.6939\n",
      "Epoch 169/300\n",
      "670/670 [==============================] - 0s - loss: 1.2127 - acc: 0.6776 - val_loss: 1.2516 - val_acc: 0.6909\n",
      "Epoch 170/300\n",
      "670/670 [==============================] - 0s - loss: 1.1498 - acc: 0.7134 - val_loss: 1.2529 - val_acc: 0.6970\n",
      "Epoch 171/300\n",
      "670/670 [==============================] - 0s - loss: 1.1519 - acc: 0.7104 - val_loss: 1.2450 - val_acc: 0.6939\n",
      "Epoch 172/300\n",
      "670/670 [==============================] - 0s - loss: 1.1941 - acc: 0.6836 - val_loss: 1.2378 - val_acc: 0.7030\n",
      "Epoch 173/300\n",
      "670/670 [==============================] - 0s - loss: 1.1867 - acc: 0.6612 - val_loss: 1.2312 - val_acc: 0.7091\n",
      "Epoch 174/300\n",
      "670/670 [==============================] - 0s - loss: 1.1708 - acc: 0.6821 - val_loss: 1.2338 - val_acc: 0.7091\n",
      "Epoch 175/300\n",
      "670/670 [==============================] - 0s - loss: 1.1668 - acc: 0.6806 - val_loss: 1.2360 - val_acc: 0.7000\n",
      "Epoch 176/300\n",
      "670/670 [==============================] - 0s - loss: 1.1828 - acc: 0.6761 - val_loss: 1.2367 - val_acc: 0.7000\n",
      "Epoch 177/300\n",
      "670/670 [==============================] - 0s - loss: 1.1539 - acc: 0.6657 - val_loss: 1.2317 - val_acc: 0.7000\n",
      "Epoch 178/300\n",
      "670/670 [==============================] - 0s - loss: 1.1613 - acc: 0.7060 - val_loss: 1.2314 - val_acc: 0.7121\n",
      "Epoch 179/300\n",
      "670/670 [==============================] - 0s - loss: 1.1472 - acc: 0.6881 - val_loss: 1.2292 - val_acc: 0.6970\n",
      "Epoch 180/300\n",
      "670/670 [==============================] - 0s - loss: 1.2066 - acc: 0.6612 - val_loss: 1.2280 - val_acc: 0.6970\n",
      "Epoch 181/300\n",
      "670/670 [==============================] - 0s - loss: 1.1530 - acc: 0.7134 - val_loss: 1.2256 - val_acc: 0.6939\n",
      "Epoch 182/300\n",
      "670/670 [==============================] - 0s - loss: 1.1230 - acc: 0.7104 - val_loss: 1.2201 - val_acc: 0.7030\n",
      "Epoch 183/300\n",
      "670/670 [==============================] - 0s - loss: 1.1384 - acc: 0.7149 - val_loss: 1.2238 - val_acc: 0.7000\n",
      "Epoch 184/300\n",
      "670/670 [==============================] - 0s - loss: 1.1727 - acc: 0.7000 - val_loss: 1.2234 - val_acc: 0.6879\n",
      "Epoch 185/300\n",
      "670/670 [==============================] - 0s - loss: 1.1393 - acc: 0.7149 - val_loss: 1.2271 - val_acc: 0.6909\n",
      "Epoch 186/300\n",
      "670/670 [==============================] - 0s - loss: 1.2070 - acc: 0.6776 - val_loss: 1.2229 - val_acc: 0.6939\n",
      "Epoch 187/300\n",
      "670/670 [==============================] - 0s - loss: 1.1313 - acc: 0.6955 - val_loss: 1.2193 - val_acc: 0.6939\n",
      "Epoch 188/300\n",
      "670/670 [==============================] - 0s - loss: 1.1659 - acc: 0.7075 - val_loss: 1.2170 - val_acc: 0.6939\n",
      "Epoch 189/300\n",
      "670/670 [==============================] - 0s - loss: 1.1317 - acc: 0.7045 - val_loss: 1.2167 - val_acc: 0.7000\n",
      "Epoch 190/300\n",
      "670/670 [==============================] - 0s - loss: 1.1282 - acc: 0.7149 - val_loss: 1.2193 - val_acc: 0.6848\n",
      "Epoch 191/300\n",
      "670/670 [==============================] - 0s - loss: 1.1105 - acc: 0.7030 - val_loss: 1.2226 - val_acc: 0.6909\n",
      "Epoch 192/300\n",
      "670/670 [==============================] - 0s - loss: 1.1275 - acc: 0.7045 - val_loss: 1.2209 - val_acc: 0.6939\n",
      "Epoch 193/300\n",
      "670/670 [==============================] - 0s - loss: 1.1268 - acc: 0.7164 - val_loss: 1.2168 - val_acc: 0.6909\n",
      "Epoch 194/300\n",
      "670/670 [==============================] - 0s - loss: 1.1457 - acc: 0.6955 - val_loss: 1.2126 - val_acc: 0.7000\n",
      "Epoch 195/300\n",
      "670/670 [==============================] - 0s - loss: 1.1189 - acc: 0.7149 - val_loss: 1.2161 - val_acc: 0.6939\n",
      "Epoch 196/300\n"
     ]
    },
    {
     "name": "stdout",
     "output_type": "stream",
     "text": [
      "670/670 [==============================] - 0s - loss: 1.1454 - acc: 0.7015 - val_loss: 1.2151 - val_acc: 0.6788\n",
      "Epoch 197/300\n",
      "670/670 [==============================] - 0s - loss: 1.1444 - acc: 0.6896 - val_loss: 1.2161 - val_acc: 0.7000\n",
      "Epoch 198/300\n",
      "670/670 [==============================] - 0s - loss: 1.1096 - acc: 0.7209 - val_loss: 1.2218 - val_acc: 0.6939\n",
      "Epoch 199/300\n",
      "670/670 [==============================] - 0s - loss: 1.1240 - acc: 0.7224 - val_loss: 1.2181 - val_acc: 0.6909\n",
      "Epoch 200/300\n",
      "670/670 [==============================] - 0s - loss: 1.1378 - acc: 0.6970 - val_loss: 1.2079 - val_acc: 0.6939\n",
      "Epoch 201/300\n",
      "670/670 [==============================] - 0s - loss: 1.1742 - acc: 0.6806 - val_loss: 1.2065 - val_acc: 0.7061\n",
      "Epoch 202/300\n",
      "670/670 [==============================] - 0s - loss: 1.1335 - acc: 0.6881 - val_loss: 1.2128 - val_acc: 0.7030\n",
      "Epoch 203/300\n",
      "670/670 [==============================] - 0s - loss: 1.0766 - acc: 0.7269 - val_loss: 1.2130 - val_acc: 0.7121\n",
      "Epoch 204/300\n",
      "670/670 [==============================] - 0s - loss: 1.0931 - acc: 0.6731 - val_loss: 1.2081 - val_acc: 0.7000\n",
      "Epoch 205/300\n",
      "670/670 [==============================] - 0s - loss: 1.0986 - acc: 0.7179 - val_loss: 1.2086 - val_acc: 0.6939\n",
      "Epoch 206/300\n",
      "670/670 [==============================] - 0s - loss: 1.1238 - acc: 0.7149 - val_loss: 1.2071 - val_acc: 0.6970\n",
      "Epoch 207/300\n",
      "670/670 [==============================] - 0s - loss: 1.0994 - acc: 0.7299 - val_loss: 1.2114 - val_acc: 0.6848\n",
      "Epoch 208/300\n",
      "670/670 [==============================] - 0s - loss: 1.0804 - acc: 0.7194 - val_loss: 1.2073 - val_acc: 0.7000\n",
      "Epoch 209/300\n",
      "670/670 [==============================] - 0s - loss: 1.0980 - acc: 0.6985 - val_loss: 1.2003 - val_acc: 0.7000\n",
      "Epoch 210/300\n",
      "670/670 [==============================] - 0s - loss: 1.1128 - acc: 0.7030 - val_loss: 1.2032 - val_acc: 0.6909\n",
      "Epoch 211/300\n",
      "670/670 [==============================] - 0s - loss: 1.1248 - acc: 0.6836 - val_loss: 1.2033 - val_acc: 0.6939\n",
      "Epoch 212/300\n",
      "670/670 [==============================] - 0s - loss: 1.1186 - acc: 0.6910 - val_loss: 1.2004 - val_acc: 0.7121\n",
      "Epoch 213/300\n",
      "670/670 [==============================] - 0s - loss: 1.0999 - acc: 0.7119 - val_loss: 1.2033 - val_acc: 0.6848\n",
      "Epoch 214/300\n",
      "670/670 [==============================] - 0s - loss: 1.1363 - acc: 0.7075 - val_loss: 1.1961 - val_acc: 0.7030\n",
      "Epoch 215/300\n",
      "670/670 [==============================] - 0s - loss: 1.1226 - acc: 0.6925 - val_loss: 1.1981 - val_acc: 0.6970\n",
      "Epoch 216/300\n",
      "670/670 [==============================] - 0s - loss: 1.1211 - acc: 0.7104 - val_loss: 1.1954 - val_acc: 0.7030\n",
      "Epoch 217/300\n",
      "670/670 [==============================] - 0s - loss: 1.1192 - acc: 0.7299 - val_loss: 1.1950 - val_acc: 0.7061\n",
      "Epoch 218/300\n",
      "670/670 [==============================] - 0s - loss: 1.1268 - acc: 0.6955 - val_loss: 1.1962 - val_acc: 0.7030\n",
      "Epoch 219/300\n",
      "670/670 [==============================] - 0s - loss: 1.1180 - acc: 0.6821 - val_loss: 1.1929 - val_acc: 0.7030\n",
      "Epoch 220/300\n",
      "670/670 [==============================] - 0s - loss: 1.1418 - acc: 0.7045 - val_loss: 1.1972 - val_acc: 0.7061\n",
      "Epoch 221/300\n",
      "670/670 [==============================] - 0s - loss: 1.1021 - acc: 0.7075 - val_loss: 1.1917 - val_acc: 0.7061\n",
      "Epoch 222/300\n",
      "670/670 [==============================] - 0s - loss: 1.1220 - acc: 0.6955 - val_loss: 1.1905 - val_acc: 0.7000\n",
      "Epoch 223/300\n",
      "670/670 [==============================] - 0s - loss: 1.0615 - acc: 0.7269 - val_loss: 1.1962 - val_acc: 0.7030\n",
      "Epoch 224/300\n",
      "670/670 [==============================] - 0s - loss: 1.1244 - acc: 0.7075 - val_loss: 1.1854 - val_acc: 0.7000\n",
      "Epoch 225/300\n",
      "670/670 [==============================] - 0s - loss: 1.0915 - acc: 0.7164 - val_loss: 1.1868 - val_acc: 0.7091\n",
      "Epoch 226/300\n",
      "670/670 [==============================] - 0s - loss: 1.1155 - acc: 0.7224 - val_loss: 1.1830 - val_acc: 0.7000\n",
      "Epoch 227/300\n",
      "670/670 [==============================] - 0s - loss: 1.0970 - acc: 0.7060 - val_loss: 1.1842 - val_acc: 0.6909\n",
      "Epoch 228/300\n",
      "670/670 [==============================] - 0s - loss: 1.1412 - acc: 0.6791 - val_loss: 1.1829 - val_acc: 0.7000\n",
      "Epoch 229/300\n",
      "670/670 [==============================] - 0s - loss: 1.1392 - acc: 0.6955 - val_loss: 1.1905 - val_acc: 0.7000\n",
      "Epoch 230/300\n",
      "670/670 [==============================] - 0s - loss: 1.1389 - acc: 0.6821 - val_loss: 1.1937 - val_acc: 0.6848\n",
      "Epoch 231/300\n",
      "670/670 [==============================] - 0s - loss: 1.0963 - acc: 0.7194 - val_loss: 1.1922 - val_acc: 0.6879\n",
      "Epoch 232/300\n",
      "670/670 [==============================] - 0s - loss: 1.1021 - acc: 0.6970 - val_loss: 1.1903 - val_acc: 0.6727\n",
      "Epoch 233/300\n",
      "670/670 [==============================] - 0s - loss: 1.0887 - acc: 0.7015 - val_loss: 1.1870 - val_acc: 0.6939\n",
      "Epoch 234/300\n",
      "670/670 [==============================] - 0s - loss: 1.1553 - acc: 0.6746 - val_loss: 1.1844 - val_acc: 0.6939\n",
      "Epoch 235/300\n",
      "670/670 [==============================] - 0s - loss: 1.1014 - acc: 0.7015 - val_loss: 1.1883 - val_acc: 0.6848\n",
      "Epoch 236/300\n",
      "670/670 [==============================] - 0s - loss: 1.0972 - acc: 0.7239 - val_loss: 1.1893 - val_acc: 0.6848\n",
      "Epoch 237/300\n",
      "670/670 [==============================] - 0s - loss: 1.0928 - acc: 0.7060 - val_loss: 1.1853 - val_acc: 0.6939\n",
      "Epoch 238/300\n",
      "670/670 [==============================] - 0s - loss: 1.0707 - acc: 0.7313 - val_loss: 1.1882 - val_acc: 0.7000\n",
      "Epoch 239/300\n",
      "670/670 [==============================] - 0s - loss: 1.0884 - acc: 0.7149 - val_loss: 1.1796 - val_acc: 0.6970\n",
      "Epoch 240/300\n",
      "670/670 [==============================] - 0s - loss: 1.1047 - acc: 0.7015 - val_loss: 1.1774 - val_acc: 0.7061\n",
      "Epoch 241/300\n",
      "670/670 [==============================] - 0s - loss: 1.0502 - acc: 0.7239 - val_loss: 1.1763 - val_acc: 0.7061\n",
      "Epoch 242/300\n",
      "670/670 [==============================] - 0s - loss: 1.1080 - acc: 0.6881 - val_loss: 1.1776 - val_acc: 0.6939\n",
      "Epoch 243/300\n",
      "670/670 [==============================] - 0s - loss: 1.0501 - acc: 0.7403 - val_loss: 1.1796 - val_acc: 0.6909\n",
      "Epoch 244/300\n",
      "670/670 [==============================] - 0s - loss: 1.0841 - acc: 0.7254 - val_loss: 1.1759 - val_acc: 0.7061\n",
      "Epoch 245/300\n",
      "670/670 [==============================] - 0s - loss: 1.0965 - acc: 0.6985 - val_loss: 1.1736 - val_acc: 0.6970\n",
      "Epoch 246/300\n",
      "670/670 [==============================] - 0s - loss: 1.0273 - acc: 0.7448 - val_loss: 1.1766 - val_acc: 0.7061\n",
      "Epoch 247/300\n",
      "670/670 [==============================] - 0s - loss: 1.1153 - acc: 0.6851 - val_loss: 1.1707 - val_acc: 0.7030\n",
      "Epoch 248/300\n",
      "670/670 [==============================] - 0s - loss: 1.0589 - acc: 0.7090 - val_loss: 1.1713 - val_acc: 0.6970\n",
      "Epoch 249/300\n",
      "670/670 [==============================] - 0s - loss: 1.0870 - acc: 0.7045 - val_loss: 1.1689 - val_acc: 0.7061\n",
      "Epoch 250/300\n",
      "670/670 [==============================] - 0s - loss: 1.0891 - acc: 0.7104 - val_loss: 1.1696 - val_acc: 0.7000\n",
      "Epoch 251/300\n",
      "670/670 [==============================] - 0s - loss: 1.0917 - acc: 0.7119 - val_loss: 1.1666 - val_acc: 0.6970\n",
      "Epoch 252/300\n",
      "670/670 [==============================] - 0s - loss: 1.0922 - acc: 0.7119 - val_loss: 1.1685 - val_acc: 0.6939\n",
      "Epoch 253/300\n",
      "670/670 [==============================] - 0s - loss: 1.1032 - acc: 0.6925 - val_loss: 1.1645 - val_acc: 0.7121\n",
      "Epoch 254/300\n",
      "670/670 [==============================] - 0s - loss: 1.0957 - acc: 0.6955 - val_loss: 1.1710 - val_acc: 0.7000\n",
      "Epoch 255/300\n",
      "670/670 [==============================] - 0s - loss: 1.0749 - acc: 0.7015 - val_loss: 1.1746 - val_acc: 0.6848\n",
      "Epoch 256/300\n",
      "670/670 [==============================] - 0s - loss: 1.0902 - acc: 0.7104 - val_loss: 1.1680 - val_acc: 0.6939\n",
      "Epoch 257/300\n",
      "670/670 [==============================] - 0s - loss: 1.0761 - acc: 0.7090 - val_loss: 1.1687 - val_acc: 0.6818\n",
      "Epoch 258/300\n",
      "670/670 [==============================] - 0s - loss: 1.0422 - acc: 0.7149 - val_loss: 1.1684 - val_acc: 0.6909\n",
      "Epoch 259/300\n",
      "670/670 [==============================] - 0s - loss: 1.0714 - acc: 0.7015 - val_loss: 1.1712 - val_acc: 0.6848\n",
      "Epoch 260/300\n",
      "670/670 [==============================] - 0s - loss: 1.1143 - acc: 0.6851 - val_loss: 1.1732 - val_acc: 0.6848\n",
      "Epoch 261/300\n"
     ]
    },
    {
     "name": "stdout",
     "output_type": "stream",
     "text": [
      "670/670 [==============================] - 0s - loss: 1.0904 - acc: 0.7090 - val_loss: 1.1729 - val_acc: 0.7000\n",
      "Epoch 262/300\n",
      "670/670 [==============================] - 0s - loss: 1.0758 - acc: 0.7149 - val_loss: 1.1696 - val_acc: 0.6909\n",
      "Epoch 263/300\n",
      "670/670 [==============================] - 0s - loss: 1.0826 - acc: 0.7060 - val_loss: 1.1666 - val_acc: 0.6970\n",
      "Epoch 264/300\n",
      "670/670 [==============================] - 0s - loss: 1.0846 - acc: 0.7179 - val_loss: 1.1668 - val_acc: 0.7091\n",
      "Epoch 265/300\n",
      "670/670 [==============================] - 0s - loss: 1.0989 - acc: 0.6896 - val_loss: 1.1672 - val_acc: 0.7061\n",
      "Epoch 266/300\n",
      "670/670 [==============================] - 0s - loss: 1.0820 - acc: 0.6940 - val_loss: 1.1725 - val_acc: 0.7030\n",
      "Epoch 267/300\n",
      "670/670 [==============================] - 0s - loss: 1.0561 - acc: 0.7194 - val_loss: 1.1733 - val_acc: 0.7061\n",
      "Epoch 268/300\n",
      "670/670 [==============================] - 0s - loss: 1.0701 - acc: 0.7045 - val_loss: 1.1707 - val_acc: 0.7000\n",
      "Epoch 269/300\n",
      "670/670 [==============================] - 0s - loss: 1.0544 - acc: 0.7000 - val_loss: 1.1706 - val_acc: 0.6939\n",
      "Epoch 270/300\n",
      "670/670 [==============================] - 0s - loss: 1.0914 - acc: 0.6761 - val_loss: 1.1733 - val_acc: 0.6939\n",
      "Epoch 271/300\n",
      "670/670 [==============================] - 0s - loss: 1.0963 - acc: 0.6970 - val_loss: 1.1708 - val_acc: 0.6879\n",
      "Epoch 272/300\n",
      "670/670 [==============================] - 0s - loss: 1.0637 - acc: 0.7090 - val_loss: 1.1653 - val_acc: 0.6970\n",
      "Epoch 273/300\n",
      "670/670 [==============================] - 0s - loss: 1.0456 - acc: 0.7299 - val_loss: 1.1671 - val_acc: 0.6970\n",
      "Epoch 274/300\n",
      "670/670 [==============================] - 0s - loss: 1.0641 - acc: 0.6940 - val_loss: 1.1666 - val_acc: 0.6909\n",
      "Epoch 275/300\n",
      "670/670 [==============================] - 0s - loss: 1.0590 - acc: 0.7030 - val_loss: 1.1659 - val_acc: 0.6970\n",
      "Epoch 276/300\n",
      "670/670 [==============================] - 0s - loss: 1.0128 - acc: 0.7493 - val_loss: 1.1649 - val_acc: 0.6970\n",
      "Epoch 277/300\n",
      "670/670 [==============================] - 0s - loss: 1.0257 - acc: 0.7284 - val_loss: 1.1636 - val_acc: 0.6970\n",
      "Epoch 278/300\n",
      "670/670 [==============================] - 0s - loss: 1.0460 - acc: 0.7209 - val_loss: 1.1629 - val_acc: 0.7030\n",
      "Epoch 279/300\n",
      "670/670 [==============================] - 0s - loss: 1.0832 - acc: 0.7075 - val_loss: 1.1627 - val_acc: 0.7030\n",
      "Epoch 280/300\n",
      "670/670 [==============================] - 0s - loss: 1.0708 - acc: 0.7090 - val_loss: 1.1613 - val_acc: 0.7091\n",
      "Epoch 281/300\n",
      "670/670 [==============================] - 0s - loss: 1.0465 - acc: 0.7254 - val_loss: 1.1608 - val_acc: 0.7091\n",
      "Epoch 282/300\n",
      "670/670 [==============================] - 0s - loss: 1.0112 - acc: 0.7358 - val_loss: 1.1601 - val_acc: 0.7091\n",
      "Epoch 283/300\n",
      "670/670 [==============================] - 0s - loss: 1.0235 - acc: 0.7045 - val_loss: 1.1593 - val_acc: 0.7091\n",
      "Epoch 284/300\n",
      "670/670 [==============================] - 0s - loss: 0.9950 - acc: 0.7597 - val_loss: 1.1590 - val_acc: 0.7121\n",
      "Epoch 285/300\n",
      "670/670 [==============================] - 0s - loss: 1.0477 - acc: 0.7090 - val_loss: 1.1589 - val_acc: 0.7091\n",
      "Epoch 286/300\n",
      "670/670 [==============================] - 0s - loss: 0.9874 - acc: 0.7313 - val_loss: 1.1586 - val_acc: 0.7091\n",
      "Epoch 287/300\n",
      "670/670 [==============================] - 0s - loss: 1.0491 - acc: 0.7090 - val_loss: 1.1584 - val_acc: 0.7091\n",
      "Epoch 288/300\n",
      "670/670 [==============================] - 0s - loss: 1.0273 - acc: 0.7299 - val_loss: 1.1577 - val_acc: 0.7091\n",
      "Epoch 289/300\n",
      "670/670 [==============================] - 0s - loss: 1.0633 - acc: 0.7194 - val_loss: 1.1581 - val_acc: 0.7061\n",
      "Epoch 290/300\n",
      "670/670 [==============================] - 0s - loss: 1.0453 - acc: 0.7254 - val_loss: 1.1581 - val_acc: 0.7061\n",
      "Epoch 291/300\n",
      "670/670 [==============================] - 0s - loss: 1.0060 - acc: 0.7328 - val_loss: 1.1581 - val_acc: 0.7061\n",
      "Epoch 292/300\n",
      "670/670 [==============================] - 0s - loss: 1.0307 - acc: 0.7269 - val_loss: 1.1574 - val_acc: 0.7091\n",
      "Epoch 293/300\n",
      "670/670 [==============================] - 0s - loss: 1.0289 - acc: 0.7313 - val_loss: 1.1556 - val_acc: 0.7121\n",
      "Epoch 294/300\n",
      "670/670 [==============================] - 0s - loss: 1.0139 - acc: 0.7463 - val_loss: 1.1550 - val_acc: 0.7121\n",
      "Epoch 295/300\n",
      "670/670 [==============================] - 0s - loss: 1.0200 - acc: 0.7418 - val_loss: 1.1544 - val_acc: 0.7121\n",
      "Epoch 296/300\n",
      "670/670 [==============================] - 0s - loss: 1.0379 - acc: 0.7149 - val_loss: 1.1537 - val_acc: 0.7121\n",
      "Epoch 297/300\n",
      "670/670 [==============================] - 0s - loss: 1.0152 - acc: 0.7328 - val_loss: 1.1536 - val_acc: 0.7121\n",
      "Epoch 298/300\n",
      "670/670 [==============================] - 0s - loss: 0.9841 - acc: 0.7388 - val_loss: 1.1534 - val_acc: 0.7121\n",
      "Epoch 299/300\n",
      "670/670 [==============================] - 0s - loss: 1.0104 - acc: 0.7358 - val_loss: 1.1534 - val_acc: 0.7121\n",
      "Epoch 300/300\n",
      "670/670 [==============================] - 0s - loss: 1.0092 - acc: 0.7358 - val_loss: 1.1537 - val_acc: 0.7121\n"
     ]
    }
   ],
   "source": [
    "model = create_model()\n",
    "history = model.fit(X_train, y_train,\n",
    "                    batch_size=32,\n",
    "                    epochs=300, \n",
    "                    validation_data=(X_val, y_val),\n",
    "                    callbacks=[reduce_lr])"
   ]
  },
  {
   "cell_type": "code",
   "execution_count": 16,
   "metadata": {},
   "outputs": [
    {
     "data": {
      "text/plain": [
       "<matplotlib.legend.Legend at 0x7f5c4c03c278>"
      ]
     },
     "execution_count": 16,
     "metadata": {},
     "output_type": "execute_result"
    },
    {
     "data": {
      "image/png": "[encoded data removed]",
      "text/plain": [
       "<Figure size 432x288 with 1 Axes>"
      ]
     },
     "metadata": {
      "needs_background": "light"
     },
     "output_type": "display_data"
    }
   ],
   "source": [
    "plt.plot(history.history['acc'])\n",
    "plt.plot(history.history['val_acc'])\n",
    "plt.legend(['Train Acc', 'Val Acc'])"
   ]
  },
  {
   "cell_type": "code",
   "execution_count": 17,
   "metadata": {},
   "outputs": [
    {
     "data": {
      "text/plain": [
       "<matplotlib.legend.Legend at 0x7f5c4407acf8>"
      ]
     },
     "execution_count": 17,
     "metadata": {},
     "output_type": "execute_result"
    },
    {
     "data": {
      "image/png": "[encoded data removed]",
      "text/plain": [
       "<Figure size 432x288 with 1 Axes>"
      ]
     },
     "metadata": {
      "needs_background": "light"
     },
     "output_type": "display_data"
    }
   ],
   "source": [
    "plt.plot(history.history['loss'])\n",
    "plt.plot(history.history['val_loss'])\n",
    "plt.legend(['Train Loss', 'Val Loss'])"
   ]
  },
  {
   "cell_type": "code",
   "execution_count": 18,
   "metadata": {},
   "outputs": [
    {
     "name": "stdout",
     "output_type": "stream",
     "text": [
      "Train\n",
      "              precision    recall  f1-score   support\n",
      "\n",
      "           0       0.88      0.87      0.87        67\n",
      "           1       1.00      0.99      0.99        67\n",
      "           2       0.93      0.84      0.88        67\n",
      "           3       0.87      0.88      0.87        67\n",
      "           4       0.89      0.93      0.91        67\n",
      "           5       0.94      0.99      0.96        67\n",
      "           6       0.89      0.99      0.94        67\n",
      "           7       0.96      0.97      0.96        67\n",
      "           8       0.84      0.84      0.84        67\n",
      "           9       0.75      0.69      0.72        67\n",
      "\n",
      "   micro avg       0.90      0.90      0.90       670\n",
      "   macro avg       0.89      0.90      0.89       670\n",
      "weighted avg       0.89      0.90      0.89       670\n",
      "\n"
     ]
    }
   ],
   "source": [
    "y_train_pred = model.predict(X_train)\n",
    "y_train_pred_max = np.argmax(y_train_pred, axis=1)\n",
    "y_train_max = np.argmax(y_train, axis=1)\n",
    "\n",
    "print('Train')\n",
    "print(classification_report(y_train_max, y_train_pred_max))"
   ]
  },
  {
   "cell_type": "code",
   "execution_count": 19,
   "metadata": {},
   "outputs": [
    {
     "data": {
      "text/plain": [
       "<matplotlib.axes._subplots.AxesSubplot at 0x7f5c5a7cc9b0>"
      ]
     },
     "execution_count": 19,
     "metadata": {},
     "output_type": "execute_result"
    },
    {
     "data": {
      "image/png": "[encoded data removed]",
      "text/plain": [
       "<Figure size 432x288 with 2 Axes>"
      ]
     },
     "metadata": {},
     "output_type": "display_data"
    }
   ],
   "source": [
    "cm = confusion_matrix(y_train_max, y_train_pred_max)\n",
    "sns.set()\n",
    "plt.figure()\n",
    "plt.title('Train')\n",
    "sns.heatmap(cm, annot=True, yticklabels=cls_list, xticklabels=cls_list, cmap='Blues')"
   ]
  },
  {
   "cell_type": "code",
   "execution_count": 20,
   "metadata": {},
   "outputs": [
    {
     "name": "stdout",
     "output_type": "stream",
     "text": [
      "Val\n",
      "              precision    recall  f1-score   support\n",
      "\n",
      "           0       0.81      0.67      0.73        33\n",
      "           1       0.88      0.91      0.90        33\n",
      "           2       0.66      0.76      0.70        33\n",
      "           3       0.61      0.52      0.56        33\n",
      "           4       0.59      0.61      0.60        33\n",
      "           5       0.80      0.85      0.82        33\n",
      "           6       0.76      0.85      0.80        33\n",
      "           7       0.76      0.76      0.76        33\n",
      "           8       0.72      0.70      0.71        33\n",
      "           9       0.53      0.52      0.52        33\n",
      "\n",
      "   micro avg       0.71      0.71      0.71       330\n",
      "   macro avg       0.71      0.71      0.71       330\n",
      "weighted avg       0.71      0.71      0.71       330\n",
      "\n"
     ]
    }
   ],
   "source": [
    "y_pred = model.predict(X_val)\n",
    "y_pred_max = np.argmax(y_pred, axis=1)\n",
    "y_max = np.argmax(y_val, axis=1)\n",
    "\n",
    "print('Val')\n",
    "print(classification_report(y_max, y_pred_max))"
   ]
  },
  {
   "cell_type": "code",
   "execution_count": 21,
   "metadata": {},
   "outputs": [
    {
     "data": {
      "text/plain": [
       "<matplotlib.axes._subplots.AxesSubplot at 0x7f5c5a7cca20>"
      ]
     },
     "execution_count": 21,
     "metadata": {},
     "output_type": "execute_result"
    },
    {
     "data": {
      "image/png": "[encoded data removed]",
      "text/plain": [
       "<Figure size 432x288 with 2 Axes>"
      ]
     },
     "metadata": {},
     "output_type": "display_data"
    }
   ],
   "source": [
    "cm = confusion_matrix(y_max, y_pred_max)\n",
    "sns.set()\n",
    "plt.figure()\n",
    "plt.title('Validation')\n",
    "sns.heatmap(cm, annot=True, yticklabels=cls_list, xticklabels=cls_list, cmap='Blues')"
   ]
  }
 ],
 "metadata": {
  "kernelspec": {
   "display_name": "Python 3",
   "language": "python",
   "name": "python3"
  },
  "language_info": {
   "codemirror_mode": {
    "name": "ipython",
    "version": 3
   },
   "file_extension": ".py",
   "mimetype": "text/x-python",
   "name": "python",
   "nbconvert_exporter": "python",
   "pygments_lexer": "ipython3",
   "version": "3.5.2"
  }
 },
 "nbformat": 4,
 "nbformat_minor": 2
}
